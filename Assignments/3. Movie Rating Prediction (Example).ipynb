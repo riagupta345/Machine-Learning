{
 "cells": [
  {
   "cell_type": "markdown",
   "metadata": {},
   "source": [
    "### Creating an NLP pipeline to clean review data\n",
    "- Load input file and read reviews\n",
    "- Tokenize\n",
    "- Remove stopwords\n",
    "- Perform stemming\n",
    "- Write clean data to output file"
   ]
  },
  {
   "cell_type": "code",
   "execution_count": 12,
   "metadata": {},
   "outputs": [
    {
     "name": "stdout",
     "output_type": "stream",
     "text": [
      "I loved this movie since I was 7 and I saw it on the opening day. It was so touching and beautiful. I strongly recommend seeing for all. It's a movie to watch with your family by far.<br /><br />My MPAA rating: PG-13 for thematic elements, prolonged scenes of disaster, nudity/sexuality and some language.\n"
     ]
    }
   ],
   "source": [
    "review1 = \"I loved this movie since I was 7 and I saw it on the opening day. It was so touching and beautiful. I strongly recommend seeing for all. It's a movie to watch with your family by far.<br /><br />My MPAA rating: PG-13 for thematic elements, prolonged scenes of disaster, nudity/sexuality and some language.\"\n",
    "print(review1)"
   ]
  },
  {
   "cell_type": "code",
   "execution_count": 2,
   "metadata": {},
   "outputs": [],
   "source": [
    "# NLTK modules\n",
    "\n",
    "from nltk.tokenize import RegexpTokenizer\n",
    "from nltk.corpus import stopwords\n",
    "from nltk.stem.snowball import SnowballStemmer"
   ]
  },
  {
   "cell_type": "code",
   "execution_count": 6,
   "metadata": {},
   "outputs": [],
   "source": [
    "# Init objects\n",
    "\n",
    "tokenizer = RegexpTokenizer(r'\\w+')     # To extract all words: r => stands for regular expression, w => all words\n",
    "en_stopwords = set(stopwords.words('english'))\n",
    "ss = SnowballStemmer('english')"
   ]
  },
  {
   "cell_type": "code",
   "execution_count": 7,
   "metadata": {},
   "outputs": [],
   "source": [
    "def clean_review(review):\n",
    "    review = review.lower()\n",
    "    review = review.replace(\"<br />\", \" \")\n",
    "    \n",
    "    words = tokenizer.tokenize(review)\n",
    "    filtered_words = [word for word in words if word not in en_stopwords]\n",
    "    stemmed_words = [ss.stem(word) for word in filtered_words]\n",
    "    \n",
    "    cleaned_review = ' '.join(stemmed_words)\n",
    "    return cleaned_review"
   ]
  },
  {
   "cell_type": "code",
   "execution_count": 13,
   "metadata": {},
   "outputs": [
    {
     "name": "stdout",
     "output_type": "stream",
     "text": [
      "I loved this movie since I was 7 and I saw it on the opening day. It was so touching and beautiful. I strongly recommend seeing for all. It's a movie to watch with your family by far.<br /><br />My MPAA rating: PG-13 for thematic elements, prolonged scenes of disaster, nudity/sexuality and some language.\n",
      "\n",
      "love movi sinc 7 saw open day touch beauti strong recommend see movi watch famili far mpaa rate pg 13 themat element prolong scene disast nuditi sexual languag\n"
     ]
    }
   ],
   "source": [
    "print(review1)\n",
    "print()\n",
    "print(clean_review(review1))"
   ]
  },
  {
   "cell_type": "code",
   "execution_count": null,
   "metadata": {},
   "outputs": [],
   "source": []
  }
 ],
 "metadata": {
  "kernelspec": {
   "display_name": "Python 3",
   "language": "python",
   "name": "python3"
  },
  "language_info": {
   "codemirror_mode": {
    "name": "ipython",
    "version": 3
   },
   "file_extension": ".py",
   "mimetype": "text/x-python",
   "name": "python",
   "nbconvert_exporter": "python",
   "pygments_lexer": "ipython3",
   "version": "3.7.0"
  }
 },
 "nbformat": 4,
 "nbformat_minor": 2
}
