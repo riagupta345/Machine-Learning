{
 "cells": [
  {
   "cell_type": "code",
   "execution_count": 1,
   "metadata": {},
   "outputs": [],
   "source": [
    "import numpy as np\n",
    "import pandas as pd\n",
    "import matplotlib.pyplot as plt"
   ]
  },
  {
   "cell_type": "code",
   "execution_count": 2,
   "metadata": {},
   "outputs": [
    {
     "name": "stdout",
     "output_type": "stream",
     "text": [
      "(1600, 6) <class 'pandas.core.frame.DataFrame'>\n",
      "(400, 5)\n"
     ]
    }
   ],
   "source": [
    "# data_tr = pd.read_csv(\"../Datasets/Assignments/LRTrain.csv\")\n",
    "# data_test = pd.read_csv(\"../Datasets/Assignments/LRTest.csv\")\n",
    "\n",
    "data_tr = pd.read_csv(\"../Kaggle/Datasets/all/Train.csv\")\n",
    "data_test = pd.read_csv(\"../Kaggle/Datasets/all/Test.csv\")\n",
    "print(data_tr.shape, type(data_tr))\n",
    "print(data_test.shape)"
   ]
  },
  {
   "cell_type": "code",
   "execution_count": 3,
   "metadata": {},
   "outputs": [
    {
     "data": {
      "text/html": [
       "<div>\n",
       "<style scoped>\n",
       "    .dataframe tbody tr th:only-of-type {\n",
       "        vertical-align: middle;\n",
       "    }\n",
       "\n",
       "    .dataframe tbody tr th {\n",
       "        vertical-align: top;\n",
       "    }\n",
       "\n",
       "    .dataframe thead th {\n",
       "        text-align: right;\n",
       "    }\n",
       "</style>\n",
       "<table border=\"1\" class=\"dataframe\">\n",
       "  <thead>\n",
       "    <tr style=\"text-align: right;\">\n",
       "      <th></th>\n",
       "      <th>feature_1</th>\n",
       "      <th>feature_2</th>\n",
       "      <th>feature_3</th>\n",
       "      <th>feature_4</th>\n",
       "      <th>feature_5</th>\n",
       "      <th>target</th>\n",
       "    </tr>\n",
       "  </thead>\n",
       "  <tbody>\n",
       "    <tr>\n",
       "      <th>0</th>\n",
       "      <td>0.293416</td>\n",
       "      <td>-0.945599</td>\n",
       "      <td>-0.421105</td>\n",
       "      <td>0.406816</td>\n",
       "      <td>0.525662</td>\n",
       "      <td>-82.154667</td>\n",
       "    </tr>\n",
       "    <tr>\n",
       "      <th>1</th>\n",
       "      <td>-0.836084</td>\n",
       "      <td>-0.189228</td>\n",
       "      <td>-0.776403</td>\n",
       "      <td>-1.053831</td>\n",
       "      <td>0.597997</td>\n",
       "      <td>-48.897960</td>\n",
       "    </tr>\n",
       "    <tr>\n",
       "      <th>2</th>\n",
       "      <td>0.236425</td>\n",
       "      <td>0.132836</td>\n",
       "      <td>-0.147723</td>\n",
       "      <td>0.699854</td>\n",
       "      <td>-0.187364</td>\n",
       "      <td>77.270371</td>\n",
       "    </tr>\n",
       "    <tr>\n",
       "      <th>3</th>\n",
       "      <td>0.175312</td>\n",
       "      <td>0.143194</td>\n",
       "      <td>-0.581111</td>\n",
       "      <td>-0.122107</td>\n",
       "      <td>-1.292168</td>\n",
       "      <td>-2.988581</td>\n",
       "    </tr>\n",
       "    <tr>\n",
       "      <th>4</th>\n",
       "      <td>-1.693011</td>\n",
       "      <td>0.542712</td>\n",
       "      <td>-2.798729</td>\n",
       "      <td>-0.686723</td>\n",
       "      <td>1.244077</td>\n",
       "      <td>-37.596722</td>\n",
       "    </tr>\n",
       "  </tbody>\n",
       "</table>\n",
       "</div>"
      ],
      "text/plain": [
       "   feature_1  feature_2  feature_3  feature_4  feature_5     target\n",
       "0   0.293416  -0.945599  -0.421105   0.406816   0.525662 -82.154667\n",
       "1  -0.836084  -0.189228  -0.776403  -1.053831   0.597997 -48.897960\n",
       "2   0.236425   0.132836  -0.147723   0.699854  -0.187364  77.270371\n",
       "3   0.175312   0.143194  -0.581111  -0.122107  -1.292168  -2.988581\n",
       "4  -1.693011   0.542712  -2.798729  -0.686723   1.244077 -37.596722"
      ]
     },
     "execution_count": 3,
     "metadata": {},
     "output_type": "execute_result"
    }
   ],
   "source": [
    "data_tr.head()"
   ]
  },
  {
   "cell_type": "code",
   "execution_count": 4,
   "metadata": {},
   "outputs": [
    {
     "name": "stdout",
     "output_type": "stream",
     "text": [
      "(1600, 6) <class 'numpy.ndarray'>\n",
      "(400, 5) <class 'numpy.ndarray'>\n"
     ]
    }
   ],
   "source": [
    "data_tr = data_tr.values\n",
    "data_test = data_test.values\n",
    "\n",
    "print(data_tr.shape, type(data_tr))\n",
    "print(data_test.shape, type(data_test))"
   ]
  },
  {
   "cell_type": "code",
   "execution_count": 5,
   "metadata": {},
   "outputs": [
    {
     "name": "stdout",
     "output_type": "stream",
     "text": [
      "(1600, 5) (1600, 1)\n",
      "(1600, 6) (1600, 1)\n"
     ]
    }
   ],
   "source": [
    "X_train = data_tr[:, :5]\n",
    "Y_train = data_tr[:, -1:]\n",
    "\n",
    "X_test = data_test[:, :5]\n",
    "X_test = np.hstack((np.ones((X_test.shape[0],1)), X_test))\n",
    "# Y_test = data_test[:, -1:]\n",
    "\n",
    "print(X_train.shape, Y_train.shape)     # => Number of features in dataset = 5\n",
    "X_train = np.hstack((np.ones((X_train.shape[0],1)), X_train))\n",
    "print(X_train.shape, Y_train.shape)     # => Number of features in dataset = 5\n",
    "\n",
    "# print(X_test.shape, Y_test.shape)     # => Number of features in dataset = 5\n",
    "\n",
    "# print(X_train)\n",
    "ft = 5"
   ]
  },
  {
   "cell_type": "markdown",
   "metadata": {},
   "source": [
    "## Gradient Descent"
   ]
  },
  {
   "cell_type": "code",
   "execution_count": 6,
   "metadata": {},
   "outputs": [],
   "source": [
    "def hypothesis(x, theta):\n",
    "    rv = 0\n",
    "    for i in range(ft+1):\n",
    "        rv += theta[i]*x[i]\n",
    "    return rv\n",
    "\n",
    "def error(X, Y, theta):\n",
    "    m = X.shape[0]\n",
    "    total_error = 0\n",
    "    for i in range(m):\n",
    "        hx = hypothesis(X[i], theta)\n",
    "        total_error += ((hx - Y[i])**2)\n",
    "    return total_error/2\n",
    "\n",
    "def gradient(X, Y, theta):\n",
    "    m = X.shape[0]\n",
    "    grad = np.zeros((ft+1,))\n",
    "    \n",
    "    for i in range(m):\n",
    "        for j in range(ft+1):\n",
    "            hxi = hypothesis(X[i], theta)\n",
    "            grad[j] += (hxi - Y[i])*X[i][j]\n",
    "    return grad\n",
    "        \n",
    "def gradientDescent(X, Y, lr = 0.001):\n",
    "    m = X.shape[0]\n",
    "    theta = np.random.randn(ft+1,)\n",
    "    error_list = []\n",
    "    theta_list = []\n",
    "    \n",
    "    prev_e = 0\n",
    "    e = np.inf\n",
    "    \n",
    "    while abs(e - prev_e) >= 0.0000000001:\n",
    "#     for i in range(1000):\n",
    "        grad = gradient(X, Y, theta)\n",
    "        prev_e = e\n",
    "        e = error(X, Y, theta)\n",
    "        error_list.append(e)\n",
    "        theta_list.append(theta)\n",
    "        \n",
    "        for j in range(ft+1):\n",
    "            theta[j] = theta[j] - lr*grad[j]\n",
    "            \n",
    "    return theta, error_list, theta_list    "
   ]
  },
  {
   "cell_type": "markdown",
   "metadata": {},
   "source": [
    "### Training with Gradient Descent"
   ]
  },
  {
   "cell_type": "code",
   "execution_count": 7,
   "metadata": {
    "scrolled": true
   },
   "outputs": [
    {
     "name": "stdout",
     "output_type": "stream",
     "text": [
      "[ 4.99096668 29.68187113 92.66247751  8.28062101 44.76773528  2.51916115]\n",
      "78 78\n"
     ]
    }
   ],
   "source": [
    "final_theta, error_list, theta_list = gradientDescent(X_train, Y_train)\n",
    "print(final_theta)\n",
    "print(len(theta_list), len(error_list))"
   ]
  },
  {
   "cell_type": "code",
   "execution_count": 8,
   "metadata": {},
   "outputs": [
    {
     "data": {
      "image/png": "[encoded data removed]",
      "text/plain": [
       "<Figure size 432x288 with 1 Axes>"
      ]
     },
     "metadata": {
      "needs_background": "light"
     },
     "output_type": "display_data"
    },
    {
     "name": "stdout",
     "output_type": "stream",
     "text": [
      "78\n"
     ]
    }
   ],
   "source": [
    "plt.plot(error_list)\n",
    "plt.show()\n",
    "print(len(error_list))"
   ]
  },
  {
   "cell_type": "markdown",
   "metadata": {},
   "source": [
    "### Score with Gradient Descent on Training Data"
   ]
  },
  {
   "cell_type": "code",
   "execution_count": 9,
   "metadata": {},
   "outputs": [],
   "source": [
    "y_pred = np.zeros(Y_train.shape)\n",
    "\n",
    "m = X_train.shape[0]\n",
    "for i in range(m):\n",
    "    y_pred[i] = hypothesis(X_train[i], final_theta)"
   ]
  },
  {
   "cell_type": "code",
   "execution_count": 10,
   "metadata": {},
   "outputs": [
    {
     "name": "stdout",
     "output_type": "stream",
     "text": [
      "(1600, 1) (1600, 1)\n",
      "0.9660939669975617\n"
     ]
    }
   ],
   "source": [
    "# Coefficient of Determination\n",
    "\n",
    "print(Y_train.shape, y_pred.shape)\n",
    "u = ((Y_train - y_pred)**2).sum()\n",
    "v = ((Y_train - Y_train.mean())**2).sum()\n",
    "\n",
    "r2 = 1.0 - u/v\n",
    "print(r2)"
   ]
  },
  {
   "cell_type": "markdown",
   "metadata": {},
   "source": [
    "### Score with Gradient Descent on Testing Data"
   ]
  },
  {
   "cell_type": "code",
   "execution_count": 11,
   "metadata": {},
   "outputs": [
    {
     "data": {
      "text/plain": [
       "'\\ncols = []\\nfor i in range(y_pred_test.shape[0]):\\n    cols.append(i)\\ncols = np.array(cols)\\ncols = cols.reshape((400, 1))\\n\\nfinal_y = np.hstack((cols, y_pred_test))\\n'"
      ]
     },
     "execution_count": 11,
     "metadata": {},
     "output_type": "execute_result"
    }
   ],
   "source": [
    "y_pred_test = np.zeros(X_test.shape[0])\n",
    "m = X_test.shape[0]\n",
    "for i in range(m):\n",
    "    y_pred_test[i] = hypothesis(X_test[i], final_theta)\n",
    "'''\n",
    "cols = []\n",
    "for i in range(y_pred_test.shape[0]):\n",
    "    cols.append(i)\n",
    "cols = np.array(cols)\n",
    "cols = cols.reshape((400, 1))\n",
    "\n",
    "final_y = np.hstack((cols, y_pred_test))\n",
    "'''"
   ]
  },
  {
   "cell_type": "code",
   "execution_count": 12,
   "metadata": {},
   "outputs": [
    {
     "ename": "NameError",
     "evalue": "name 'Y_test' is not defined",
     "output_type": "error",
     "traceback": [
      "\u001b[0;31m---------------------------------------------------------------------------\u001b[0m",
      "\u001b[0;31mNameError\u001b[0m                                 Traceback (most recent call last)",
      "\u001b[0;32m<ipython-input-12-85c8ce201fc4>\u001b[0m in \u001b[0;36m<module>\u001b[0;34m()\u001b[0m\n\u001b[0;32m----> 1\u001b[0;31m \u001b[0mu\u001b[0m \u001b[0;34m=\u001b[0m \u001b[0;34m(\u001b[0m\u001b[0;34m(\u001b[0m\u001b[0mY_test\u001b[0m \u001b[0;34m-\u001b[0m \u001b[0my_pred_test\u001b[0m\u001b[0;34m)\u001b[0m\u001b[0;34m**\u001b[0m\u001b[0;36m2\u001b[0m\u001b[0;34m)\u001b[0m\u001b[0;34m.\u001b[0m\u001b[0msum\u001b[0m\u001b[0;34m(\u001b[0m\u001b[0;34m)\u001b[0m\u001b[0;34m\u001b[0m\u001b[0m\n\u001b[0m\u001b[1;32m      2\u001b[0m \u001b[0mv\u001b[0m \u001b[0;34m=\u001b[0m \u001b[0;34m(\u001b[0m\u001b[0;34m(\u001b[0m\u001b[0mY_test\u001b[0m \u001b[0;34m-\u001b[0m \u001b[0mY_test\u001b[0m\u001b[0;34m.\u001b[0m\u001b[0mmean\u001b[0m\u001b[0;34m(\u001b[0m\u001b[0;34m)\u001b[0m\u001b[0;34m)\u001b[0m\u001b[0;34m**\u001b[0m\u001b[0;36m2\u001b[0m\u001b[0;34m)\u001b[0m\u001b[0;34m.\u001b[0m\u001b[0msum\u001b[0m\u001b[0;34m(\u001b[0m\u001b[0;34m)\u001b[0m\u001b[0;34m\u001b[0m\u001b[0m\n\u001b[1;32m      3\u001b[0m \u001b[0;34m\u001b[0m\u001b[0m\n\u001b[1;32m      4\u001b[0m \u001b[0mr2\u001b[0m \u001b[0;34m=\u001b[0m \u001b[0;36m1.0\u001b[0m \u001b[0;34m-\u001b[0m \u001b[0mu\u001b[0m\u001b[0;34m/\u001b[0m\u001b[0mv\u001b[0m\u001b[0;34m\u001b[0m\u001b[0m\n\u001b[1;32m      5\u001b[0m \u001b[0mprint\u001b[0m\u001b[0;34m(\u001b[0m\u001b[0mr2\u001b[0m\u001b[0;34m)\u001b[0m\u001b[0;34m\u001b[0m\u001b[0m\n",
      "\u001b[0;31mNameError\u001b[0m: name 'Y_test' is not defined"
     ]
    }
   ],
   "source": [
    "u = ((Y_test - y_pred_test)**2).sum()\n",
    "v = ((Y_test - Y_test.mean())**2).sum()\n",
    "\n",
    "r2 = 1.0 - u/v\n",
    "print(r2)"
   ]
  },
  {
   "cell_type": "markdown",
   "metadata": {},
   "source": [
    "## Stochastic GD"
   ]
  },
  {
   "cell_type": "code",
   "execution_count": null,
   "metadata": {},
   "outputs": [],
   "source": [
    "def batch_grad(X, Y, theta, bsize=1):\n",
    "    m = X.shape[0]\n",
    "    indices = np.arange(m)\n",
    "    np.random.shuffle(indices)    \n",
    "    \n",
    "    indices = indices[: bsize]    \n",
    "    grad = np.zeros((ft+1,))\n",
    "    \n",
    "    for i in indices:   \n",
    "        for j in range(ft+1):\n",
    "            hxi = hypothesis(X[i], theta)\n",
    "            grad[j] += (hxi - Y[i])*X[i][j]\n",
    "    return grad\n",
    "\n",
    "def gradientDescentStochastic(X, Y, lr = 0.001):\n",
    "    m = X.shape[0]\n",
    "    theta = np.random.randn(ft+1,)\n",
    "    error_list = []\n",
    "    theta_list = []\n",
    "    \n",
    "    prev_avg_e = 0\n",
    "    avg_error = np.inf    # Avg error over last 100 epochs\n",
    "    e = np.inf\n",
    "    i = 0\n",
    "    \n",
    "    while abs(prev_avg_e - avg_error) >= 100:\n",
    "#     for i in range(1000):\n",
    "        grad = batch_grad(X, Y, theta)\n",
    "        e = error(X, Y, theta)\n",
    "#         if i % 10:\n",
    "        error_list.append(e)\n",
    "        theta_list.append(theta)\n",
    "\n",
    "        for j in range(ft+1):\n",
    "            theta[j] = theta[j] - lr*grad[j]\n",
    "       \n",
    "        elx = np.array(error_list[-200:-100])\n",
    "        prev_avg_e = elx.sum()/100\n",
    "        el = np.array(error_list[-100:])\n",
    "        avg_error = el.sum()/100\n",
    "            \n",
    "    return theta, error_list, theta_list    "
   ]
  },
  {
   "cell_type": "markdown",
   "metadata": {},
   "source": [
    "### Training with Stochastic Gradient Descent"
   ]
  },
  {
   "cell_type": "code",
   "execution_count": null,
   "metadata": {},
   "outputs": [],
   "source": [
    "final_theta2, error_list2, theta_list2 = gradientDescentStochastic(X_train, Y_train)\n",
    "print(final_theta2)\n",
    "print(len(theta_list2), len(error_list2))"
   ]
  },
  {
   "cell_type": "code",
   "execution_count": null,
   "metadata": {
    "scrolled": true
   },
   "outputs": [],
   "source": [
    "plt.plot(error_list2)\n",
    "plt.show()"
   ]
  },
  {
   "cell_type": "markdown",
   "metadata": {},
   "source": [
    "### Score on Training Data"
   ]
  },
  {
   "cell_type": "code",
   "execution_count": null,
   "metadata": {},
   "outputs": [],
   "source": [
    "y_pred2 = np.zeros(Y_train.shape)\n",
    "\n",
    "m = X_train.shape[0]\n",
    "for i in range(m):\n",
    "    y_pred2[i] = hypothesis(X_train[i], final_theta2)"
   ]
  },
  {
   "cell_type": "code",
   "execution_count": null,
   "metadata": {},
   "outputs": [],
   "source": [
    "# Coefficient of Determination\n",
    "u = ((Y_train - y_pred2)**2).sum()\n",
    "v = ((Y_train - Y_train.mean())**2).sum()\n",
    "\n",
    "r2 = 1.0 - u/v\n",
    "print(r2)"
   ]
  },
  {
   "cell_type": "markdown",
   "metadata": {},
   "source": [
    "### Score on Testing Data"
   ]
  },
  {
   "cell_type": "code",
   "execution_count": null,
   "metadata": {},
   "outputs": [],
   "source": [
    "y_pred_test2 = np.zeros(X_test.shape[0])\n",
    "m = X_test.shape[0]\n",
    "for i in range(m):\n",
    "    y_pred_test2[i] = hypothesis(X_test[i], final_theta2)\n",
    "    \n",
    "    \n",
    "'''cols = []\n",
    "for i in range(y_pred_test2.shape[0]):\n",
    "    cols.append(i)\n",
    "cols = np.array(cols)\n",
    "cols = cols.reshape((400, 1))\n",
    "\n",
    "final_y = np.hstack((cols, y_pred_test2))'''"
   ]
  },
  {
   "cell_type": "code",
   "execution_count": null,
   "metadata": {},
   "outputs": [],
   "source": [
    "u = ((Y_test - y_pred_test2)**2).sum()\n",
    "v = ((Y_test - Y_test.mean())**2).sum()\n",
    "\n",
    "r2 = 1.0 - u/v\n",
    "print(r2)"
   ]
  },
  {
   "cell_type": "markdown",
   "metadata": {},
   "source": [
    "## Verifying parameters and R2 using library functions"
   ]
  },
  {
   "cell_type": "code",
   "execution_count": 13,
   "metadata": {},
   "outputs": [],
   "source": [
    "from sklearn.linear_model import LinearRegression, SGDRegressor"
   ]
  },
  {
   "cell_type": "code",
   "execution_count": 14,
   "metadata": {},
   "outputs": [
    {
     "name": "stdout",
     "output_type": "stream",
     "text": [
      "[4.99096674] [[ 0.         29.68187118 92.66247759  8.28062089 44.76773522  2.51916121]]\n"
     ]
    }
   ],
   "source": [
    "model = LinearRegression()\n",
    "model.fit(X_train, Y_train)\n",
    "print(model.intercept_, model.coef_)\n",
    "# [ 4.99096674                29.68187118 92.66247759  8.28062089 44.76773522  2.51916121]\n",
    "# [ 4.99096668                29.68187113 92.66247751  8.28062101 44.76773528  2.51916115]\n"
   ]
  },
  {
   "cell_type": "code",
   "execution_count": null,
   "metadata": {},
   "outputs": [],
   "source": [
    "print(model.score(X_train, Y_train))\n",
    "print(model.score(X_test, Y_test))"
   ]
  },
  {
   "cell_type": "code",
   "execution_count": null,
   "metadata": {},
   "outputs": [],
   "source": [
    "dff = pd.DataFrame(y_pred_test)\n",
    "dff.to_csv(\"aqp.csv\")"
   ]
  },
  {
   "cell_type": "code",
   "execution_count": null,
   "metadata": {},
   "outputs": [],
   "source": [
    "dff = pd.DataFrame(y_pred_test2)\n",
    "dff.to_csv(\"aqp2.csv\")"
   ]
  },
  {
   "cell_type": "code",
   "execution_count": null,
   "metadata": {},
   "outputs": [],
   "source": []
  },
  {
   "cell_type": "code",
   "execution_count": null,
   "metadata": {},
   "outputs": [],
   "source": []
  }
 ],
 "metadata": {
  "kernelspec": {
   "display_name": "Python 3",
   "language": "python",
   "name": "python3"
  },
  "language_info": {
   "codemirror_mode": {
    "name": "ipython",
    "version": 3
   },
   "file_extension": ".py",
   "mimetype": "text/x-python",
   "name": "python",
   "nbconvert_exporter": "python",
   "pygments_lexer": "ipython3",
   "version": "3.7.0"
  }
 },
 "nbformat": 4,
 "nbformat_minor": 2
}
