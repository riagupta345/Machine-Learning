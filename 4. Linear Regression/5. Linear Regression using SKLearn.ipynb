{
 "cells": [
  {
   "cell_type": "code",
   "execution_count": 2,
   "metadata": {},
   "outputs": [],
   "source": [
    "from sklearn.datasets import load_boston\n",
    "from sklearn.model_selection import train_test_split\n",
    "from sklearn.linear_model import LinearRegression"
   ]
  },
  {
   "cell_type": "code",
   "execution_count": 3,
   "metadata": {},
   "outputs": [
    {
     "name": "stdout",
     "output_type": "stream",
     "text": [
      "(506, 13)\n",
      "(506,)\n"
     ]
    }
   ],
   "source": [
    "boston = load_boston()\n",
    "X = boston.data\n",
    "Y = boston.target\n",
    "\n",
    "print(X.shape)\n",
    "print(Y.shape)"
   ]
  },
  {
   "cell_type": "code",
   "execution_count": 4,
   "metadata": {},
   "outputs": [
    {
     "name": "stdout",
     "output_type": "stream",
     "text": [
      "(404, 13)\n",
      "(102, 13)\n"
     ]
    }
   ],
   "source": [
    "X_train, X_test, Y_train, Y_test = train_test_split(X, Y, test_size=0.2)\n",
    "print(X_train.shape)\n",
    "print(X_test.shape)\n",
    "\n",
    "# train_test_split gives a random split => so different split produced each time, so accuracy varies each time it \n",
    "# is run\n",
    "# Cross validation can be used "
   ]
  },
  {
   "cell_type": "markdown",
   "metadata": {},
   "source": [
    "### Training our model"
   ]
  },
  {
   "cell_type": "code",
   "execution_count": 5,
   "metadata": {},
   "outputs": [
    {
     "name": "stdout",
     "output_type": "stream",
     "text": [
      "LinearRegression(copy_X=True, fit_intercept=True, n_jobs=None, normalize=True)\n",
      "[-1.18104550e-01  4.23622647e-02  3.95656915e-03  4.10979178e+00\n",
      " -1.58537548e+01  3.91320428e+00 -1.05255037e-02 -1.29374150e+00\n",
      "  2.99406701e-01 -1.34124943e-02 -8.46926994e-01  8.19889993e-03\n",
      " -4.37501040e-01]\n",
      "32.6632811723582\n"
     ]
    }
   ],
   "source": [
    "# 1. Create a Linear Regression object\n",
    "lr = LinearRegression(normalize=True)\n",
    "print(lr)\n",
    "\n",
    "# 2. Training\n",
    "lr.fit(X_train, Y_train)\n",
    "\n",
    "# 3. Display calculated parameters\n",
    "print(lr.coef_)         # Theta1 to Theta13\n",
    "print(lr.intercept_)    # Theta0"
   ]
  },
  {
   "cell_type": "markdown",
   "metadata": {},
   "source": [
    "### Accuracy of model\n",
    "##### Coefficient of Determination:\n",
    "\n",
    "$R^2 = 1 - \\frac{(y_A - y_P)^2}{(y_A - \\overline{y})^2}$ <br>\n",
    "\n",
    "The coefficient $R^2$ is defined as <br> $R^2$ = 1 - u/v <br>\n",
    "where: <br>   u is the residual sum of squares ((y_true - y_pred) ** 2).sum() \n",
    "<br>    v is the total sum of squares ((y_true - y_true.mean()) ** 2).sum().\n",
    "- The best possible score is 1.0 and it can be negative (because the model can be arbitrarily worse). \n",
    "- A constant model that always predicts the expected value of y, disregarding the input features, would get a $R^2$ score of 0.0."
   ]
  },
  {
   "cell_type": "code",
   "execution_count": 6,
   "metadata": {},
   "outputs": [
    {
     "name": "stdout",
     "output_type": "stream",
     "text": [
      "Training accuracy score: 0.7486843456600893\n",
      "Testing accuracy score: 0.6833021705054052\n"
     ]
    }
   ],
   "source": [
    "print(\"Training accuracy score:\", lr.score(X_train, Y_train))\n",
    "print(\"Testing accuracy score:\", lr.score(X_test, Y_test))"
   ]
  },
  {
   "cell_type": "markdown",
   "metadata": {},
   "source": [
    "### Cross Validation\n",
    "- When we randomly divide dataset into training and testing sets, we get different accuracy scores\n",
    "- We want to calculate average case accuracy score\n",
    "\n",
    "#### k-fold Cross Validation\n",
    "1. Divide dataset into k parts/folds\n",
    "2. Repeat k times (for each fold):\n",
    "    - Train on k-1 folds\n",
    "    - Test/validate on other 1 fold\n",
    "    - Compute score $s_i$\n",
    "3. Take average of all these scores <br>\n",
    "Average score = $\\frac{s_1 + s_2 + ... + s_k}{k}$"
   ]
  },
  {
   "cell_type": "code",
   "execution_count": 7,
   "metadata": {},
   "outputs": [],
   "source": [
    "from sklearn.model_selection import cross_val_score"
   ]
  },
  {
   "cell_type": "code",
   "execution_count": 19,
   "metadata": {},
   "outputs": [
    {
     "name": "stdout",
     "output_type": "stream",
     "text": [
      "[0.8231021  0.7159263  0.6518783  0.76577106 0.53283634 0.534747\n",
      " 0.44944689 0.80927103 0.84794208 0.83824311]\n",
      "\n",
      "(10,)\n",
      "<class 'numpy.ndarray'>\n"
     ]
    }
   ],
   "source": [
    "scores = cross_val_score(lr, X_train, Y_train, cv=10, scoring='r2')  # For model = LR and R^2 accuracy score\n",
    "scores2 = cross_val_score(lr, X_train, Y_train, cv=10, scoring='neg_mean_squared_error')  # For model = LR and mean squared error accuracy score\n",
    "\n",
    "print(scores)\n",
    "print()\n",
    "print(scores.shape)\n",
    "print(type(scores))"
   ]
  },
  {
   "cell_type": "code",
   "execution_count": 18,
   "metadata": {
    "scrolled": true
   },
   "outputs": [
    {
     "name": "stdout",
     "output_type": "stream",
     "text": [
      "0.6969164225429704\n",
      "0.13889618242672833\n",
      "\n",
      "-22.83110316982713\n",
      "12.31189582662986\n"
     ]
    }
   ],
   "source": [
    "print(scores.mean())\n",
    "print(scores.std())\n",
    "# Accuracy fluctuates between 0.69 ± 0.13\n",
    "\n",
    "print()\n",
    "print(scores2.mean())\n",
    "print(scores2.std())"
   ]
  },
  {
   "cell_type": "code",
   "execution_count": null,
   "metadata": {},
   "outputs": [],
   "source": []
  }
 ],
 "metadata": {
  "kernelspec": {
   "display_name": "Python 3",
   "language": "python",
   "name": "python3"
  },
  "language_info": {
   "codemirror_mode": {
    "name": "ipython",
    "version": 3
   },
   "file_extension": ".py",
   "mimetype": "text/x-python",
   "name": "python",
   "nbconvert_exporter": "python",
   "pygments_lexer": "ipython3",
   "version": "3.7.0"
  }
 },
 "nbformat": 4,
 "nbformat_minor": 2
}
