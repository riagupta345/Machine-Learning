{
 "cells": [
  {
   "cell_type": "markdown",
   "metadata": {},
   "source": [
    "# Lists:\n",
    "\n",
    "- Heterogeneous data can be stored (int, float, string, etc)\n",
    "- Denoted with square brackets [ ]\n"
   ]
  },
  {
   "cell_type": "code",
   "execution_count": 3,
   "metadata": {},
   "outputs": [
    {
     "name": "stdout",
     "output_type": "stream",
     "text": [
      "[1, 2, 3.5, 'Lol']\n",
      "<class 'list'>\n"
     ]
    }
   ],
   "source": [
    "#Creating List: Method 1 - Assignment\n",
    "\n",
    "myList = [1, 2, 3.5, \"Lol\"]\n",
    "print(myList)\n",
    "print(type(myList))"
   ]
  },
  {
   "cell_type": "code",
   "execution_count": 4,
   "metadata": {},
   "outputs": [
    {
     "name": "stdout",
     "output_type": "stream",
     "text": [
      "[1, 2.5, 'Haha']\n"
     ]
    }
   ],
   "source": [
    "#Creating List: Method 2 - Constructor\n",
    "\n",
    "ml2 = list([1, 2.5, \"Haha\"])\n",
    "print(ml2)"
   ]
  },
  {
   "cell_type": "code",
   "execution_count": 5,
   "metadata": {},
   "outputs": [
    {
     "name": "stdout",
     "output_type": "stream",
     "text": [
      "[1, 2.5, 'Haha']\n"
     ]
    }
   ],
   "source": [
    "#Creating List: Method 3 - Using another list\n",
    "\n",
    "ml3 = list(ml2)\n",
    "print(ml3)"
   ]
  },
  {
   "cell_type": "code",
   "execution_count": 6,
   "metadata": {},
   "outputs": [
    {
     "name": "stdout",
     "output_type": "stream",
     "text": [
      "[1, 4, 9, 16, 25]\n"
     ]
    }
   ],
   "source": [
    "#Creating List: Method 4 - Using for loop\n",
    "\n",
    "l = [i*i for i in range(1,6)]\n",
    "print(l)"
   ]
  },
  {
   "cell_type": "code",
   "execution_count": 7,
   "metadata": {},
   "outputs": [
    {
     "name": "stdout",
     "output_type": "stream",
     "text": [
      "[1, 2, 3.5, 'Lol', 1, 2.5, 'Haha']\n"
     ]
    }
   ],
   "source": [
    "#Extending List - 1\n",
    "\n",
    "ml3 = myList + ml2\n",
    "print(ml3)"
   ]
  },
  {
   "cell_type": "code",
   "execution_count": 8,
   "metadata": {},
   "outputs": [
    {
     "name": "stdout",
     "output_type": "stream",
     "text": [
      "['A', 'B', 1, 2.5, 'Haha']\n"
     ]
    }
   ],
   "source": [
    "#Extending List - 2\n",
    "\n",
    "ml4 = list([\"A\", \"B\"])\n",
    "ml4.extend(ml2)\n",
    "print(ml4)"
   ]
  },
  {
   "cell_type": "code",
   "execution_count": 11,
   "metadata": {},
   "outputs": [
    {
     "name": "stdout",
     "output_type": "stream",
     "text": [
      "[1, 4, 9, 16, 25]\n",
      "[1, 4, 9, 16]\n",
      "[9, 16, 25]\n"
     ]
    }
   ],
   "source": [
    "# List slicing\n",
    "\n",
    "print(l)\n",
    "print(l[0:4])\n",
    "print(l[-3:])"
   ]
  },
  {
   "cell_type": "code",
   "execution_count": 42,
   "metadata": {},
   "outputs": [
    {
     "name": "stdout",
     "output_type": "stream",
     "text": [
      "[1, 2, 3]\n",
      "[1, 2, 3, [4, 5]]\n",
      "[1, 2, 50, 3, [4, 5]]\n",
      "[1, 2, 50, 3, [4, 5], 6, 7, 8]\n",
      "[4, 5] <class 'list'>\n",
      "5\n"
     ]
    }
   ],
   "source": [
    "#Insertion - append, insert and extend (+=)\n",
    "\n",
    "#Append: added in the end\n",
    "mylist = [1, 2]\n",
    "mylist.append(3)\n",
    "print(mylist)\n",
    "mylist.append([4,5]) #list of lists\n",
    "print(mylist)\n",
    "\n",
    "#Insert: added at given index\n",
    "mylist.insert(2, 50)\n",
    "print(mylist)\n",
    "\n",
    "#Extend\n",
    "mylist += [6, 7, 8]\n",
    "print(mylist)\n",
    "print(mylist[4], type(mylist[4]))\n",
    "print(mylist[4][1])"
   ]
  },
  {
   "cell_type": "code",
   "execution_count": 43,
   "metadata": {},
   "outputs": [
    {
     "name": "stdout",
     "output_type": "stream",
     "text": [
      "[1, 2, 50, [4, 5], 6, 7, 8]\n",
      "[2, 50, [4, 5], 6, 7, 8]\n",
      "[2, 50, [4, 5], 6, 7]\n"
     ]
    }
   ],
   "source": [
    "#Deletion - remove, del and pop\n",
    "\n",
    "#Remove (element to be deleted is argument)\n",
    "mylist.remove(3)\n",
    "print(mylist)\n",
    " \n",
    "#Del (index is argument)\n",
    "del mylist[0]\n",
    "print(mylist)\n",
    "\n",
    "#Pop (last element deleted)\n",
    "mylist.pop() #returns 8 also\n",
    "print(mylist)"
   ]
  },
  {
   "cell_type": "code",
   "execution_count": 44,
   "metadata": {},
   "outputs": [
    {
     "name": "stdout",
     "output_type": "stream",
     "text": [
      "[1, 2, 3, 1, 2, 3, 1, 2, 3]\n"
     ]
    }
   ],
   "source": [
    "#Multiplication\n",
    "l = [1, 2, 3]\n",
    "l *= 3\n",
    "print(l)"
   ]
  },
  {
   "cell_type": "code",
   "execution_count": 45,
   "metadata": {},
   "outputs": [
    {
     "name": "stdout",
     "output_type": "stream",
     "text": [
      "True\n"
     ]
    }
   ],
   "source": [
    "l = [\"Apple\", \"Mango\", \"Guava\", \"Grape\", 50]\n",
    "print(\"Guava\" in l)"
   ]
  },
  {
   "cell_type": "code",
   "execution_count": 46,
   "metadata": {},
   "outputs": [
    {
     "name": "stdout",
     "output_type": "stream",
     "text": [
      "Apple\n",
      "Mango\n",
      "Guava\n",
      "Grape\n",
      "50\n",
      "\n",
      "Apple\n",
      "Mango\n",
      "Guava\n",
      "Grape\n",
      "50\n"
     ]
    }
   ],
   "source": [
    "for i in range(len(l)):\n",
    "    print(l[i])  \n",
    "print()\n",
    "\n",
    "for x in l:\n",
    "    print(x)\n",
    "#Two ways of for each loop"
   ]
  },
  {
   "cell_type": "code",
   "execution_count": 49,
   "metadata": {},
   "outputs": [
    {
     "name": "stdout",
     "output_type": "stream",
     "text": [
      "2\n",
      "26\n"
     ]
    }
   ],
   "source": [
    "l = [10, 4, 2, 8, 26, 7]\n",
    "print(min(l))\n",
    "print(max(l))"
   ]
  },
  {
   "cell_type": "code",
   "execution_count": 51,
   "metadata": {},
   "outputs": [
    {
     "name": "stdout",
     "output_type": "stream",
     "text": [
      "3\n"
     ]
    },
    {
     "ename": "ValueError",
     "evalue": "14 is not in list",
     "output_type": "error",
     "traceback": [
      "\u001b[0;31m---------------------------------------------------------------------------\u001b[0m",
      "\u001b[0;31mValueError\u001b[0m                                Traceback (most recent call last)",
      "\u001b[0;32m<ipython-input-51-cc21664c8ade>\u001b[0m in \u001b[0;36m<module>\u001b[0;34m()\u001b[0m\n\u001b[1;32m      2\u001b[0m \u001b[0;34m\u001b[0m\u001b[0m\n\u001b[1;32m      3\u001b[0m \u001b[0mprint\u001b[0m\u001b[0;34m(\u001b[0m\u001b[0ml\u001b[0m\u001b[0;34m.\u001b[0m\u001b[0mindex\u001b[0m\u001b[0;34m(\u001b[0m\u001b[0;36m8\u001b[0m\u001b[0;34m)\u001b[0m\u001b[0;34m)\u001b[0m\u001b[0;34m\u001b[0m\u001b[0m\n\u001b[0;32m----> 4\u001b[0;31m \u001b[0mprint\u001b[0m\u001b[0;34m(\u001b[0m\u001b[0ml\u001b[0m\u001b[0;34m.\u001b[0m\u001b[0mindex\u001b[0m\u001b[0;34m(\u001b[0m\u001b[0;36m14\u001b[0m\u001b[0;34m)\u001b[0m\u001b[0;34m)\u001b[0m\u001b[0;34m\u001b[0m\u001b[0m\n\u001b[0m",
      "\u001b[0;31mValueError\u001b[0m: 14 is not in list"
     ]
    }
   ],
   "source": [
    "# Searching - Linear Search\n",
    "\n",
    "print(l.index(8))\n",
    "print(l.index(14)) # Throws exception"
   ]
  },
  {
   "cell_type": "code",
   "execution_count": 56,
   "metadata": {},
   "outputs": [
    {
     "name": "stdout",
     "output_type": "stream",
     "text": [
      "[2, 4, 7, 8, 10, 26]\n",
      "[2, 4, 7, 8, 10, 26]\n",
      "[26, 10, 8, 7, 4, 2]\n"
     ]
    }
   ],
   "source": [
    "# Sorting: sorted(L) and L.sort()\n",
    "\n",
    "sorted(l) # only returns, doesnt change our list\n",
    "l = sorted(l)\n",
    "print(l)\n",
    "\n",
    "l = [10, 4, 2, 8, 26, 7]\n",
    "l.sort() # changes original list\n",
    "print(l)\n",
    "\n",
    "l.sort(reverse = True)\n",
    "print(l)"
   ]
  },
  {
   "cell_type": "code",
   "execution_count": 68,
   "metadata": {},
   "outputs": [
    {
     "name": "stdout",
     "output_type": "stream",
     "text": [
      "1 2 3 4\n",
      "[1, 2, 3, 4]\n",
      "<class 'list'> <class 'int'>\n"
     ]
    }
   ],
   "source": [
    "# Read list of numbers\n",
    "\n",
    "# numList = input().split()\n",
    "numList = [int(x) for x in input().split()]\n",
    "print(numList)\n",
    "print(type(numList), type(numList[0]))"
   ]
  },
  {
   "cell_type": "markdown",
   "metadata": {},
   "source": [
    "# Dictionary\n",
    "\n",
    "- Info stored as Key Value pairs \n",
    "- Keys should be unique\n",
    "- Not stored in sorted order\n",
    "- Denoted with curly brackets { }"
   ]
  },
  {
   "cell_type": "code",
   "execution_count": 117,
   "metadata": {},
   "outputs": [
    {
     "name": "stdout",
     "output_type": "stream",
     "text": [
      "{'Mango': 50, 'Apple': 60}\n",
      "{'Mango': 50, 'Apple': 60, 'Guava': 10}\n",
      "{'Mango': 50, 'Apple': 60, 'Guava': 10, 'Grape': [10, 20]}\n",
      "{'Mango': 50, 'Apple': 60, 'Guava': 10, 'Grape': [10, 20], 'Pineapple': {'S': 40, 'L': 60}}\n",
      "\n",
      "dict_keys(['Mango', 'Apple', 'Guava', 'Grape', 'Pineapple'])\n",
      "dict_values([50, 60, 10, [10, 20], {'S': 40, 'L': 60}])\n"
     ]
    }
   ],
   "source": [
    "d = {\"Mango\":50, \"Apple\":60}\n",
    "print(d)\n",
    "\n",
    "d[\"Guava\"] = 10;          # Value is int\n",
    "print(d)\n",
    "\n",
    "d[\"Grape\"] = [10, 20]     # Value is list\n",
    "print(d)\n",
    "\n",
    "d[\"Pineapple\"] = {\"S\":40, \"L\":60}  # Value is dictionary itself (nesting)\n",
    "print(d)\n",
    "print()\n",
    "\n",
    "print(d.keys())    # Returns a LIST of keys\n",
    "print(d.values())  # Returns a LIST of values"
   ]
  },
  {
   "cell_type": "code",
   "execution_count": 118,
   "metadata": {},
   "outputs": [
    {
     "name": "stdout",
     "output_type": "stream",
     "text": [
      "50\n",
      "None\n",
      "<class 'NoneType'>\n",
      "Mangoes don't exist\n"
     ]
    }
   ],
   "source": [
    "# Accessing element: [] will throw exception, get() will return None\n",
    "\n",
    "# 1\n",
    "#print(d[\"Mangoes\"]) --> Exception\n",
    "\n",
    "# 2\n",
    "print(d.get(\"Mango\"))\n",
    "print(d.get(\"Mangoes\"))\n",
    "print(type(d.get(\"Mangoes\")))\n",
    "\n",
    "# 3\n",
    "if \"Mangoes\" in d:\n",
    "    print(\"Price of Mangoes is %d\"%d[\"Mangoes\"])\n",
    "else:\n",
    "    print(\"Mangoes don't exist\")\n"
   ]
  },
  {
   "cell_type": "code",
   "execution_count": 119,
   "metadata": {},
   "outputs": [
    {
     "name": "stdout",
     "output_type": "stream",
     "text": [
      "dict_items([('Mango', 50), ('Apple', 60), ('Guava', 10), ('Grape', [10, 20]), ('Pineapple', {'S': 40, 'L': 60})])\n",
      "[('Mango', 50), ('Apple', 60), ('Guava', 10), ('Grape', [10, 20]), ('Pineapple', {'S': 40, 'L': 60})]\n"
     ]
    }
   ],
   "source": [
    "print(d.items())  #Returns LIST of K-V Tuples\n",
    "\n",
    "# OR\n",
    "\n",
    "l = list(d.items())\n",
    "print(l)"
   ]
  },
  {
   "cell_type": "code",
   "execution_count": 120,
   "metadata": {},
   "outputs": [
    {
     "name": "stdout",
     "output_type": "stream",
     "text": [
      "[('Mango', 50), ('Apple', 60), ('Guava', 10), ('Grape', [10, 20])]\n"
     ]
    }
   ],
   "source": [
    "# Deleting a K-V pair\n",
    "\n",
    "del d[\"Pineapple\"]\n",
    "l = list(d.items())\n",
    "print(l)"
   ]
  },
  {
   "cell_type": "code",
   "execution_count": 121,
   "metadata": {},
   "outputs": [
    {
     "name": "stdout",
     "output_type": "stream",
     "text": [
      "{'Mango': 50, 'Apple': 60, 'Guava': 10, 'Grape': [10, 20], 'Strawberry': 120}\n"
     ]
    }
   ],
   "source": [
    "# Merging dictionaries\n",
    "\n",
    "d2 = {\"Strawberry\" : 120}\n",
    "d.update(d2)\n",
    "print(d)"
   ]
  },
  {
   "cell_type": "code",
   "execution_count": 122,
   "metadata": {},
   "outputs": [
    {
     "name": "stdout",
     "output_type": "stream",
     "text": [
      "5\n",
      "{}\n",
      "0\n"
     ]
    }
   ],
   "source": [
    "print(len(d))\n",
    "\n",
    "d.clear()\n",
    "print(d)\n",
    "print(len(d))"
   ]
  },
  {
   "cell_type": "code",
   "execution_count": 130,
   "metadata": {},
   "outputs": [
    {
     "name": "stdout",
     "output_type": "stream",
     "text": [
      "{'Apple': 100, 'Mango': 20, 'Banana': 40, 'Papaya': 10}\n"
     ]
    }
   ],
   "source": [
    "# Converting list to dictionary\n",
    "\n",
    "list1 = [\"Apple\", \"Mango\", \"Banana\", \"Papaya\"]  # Key list\n",
    "list2 = [100, 20, 40, 10] # Value list\n",
    "# If either key list or value list has extra elements, they are not mapped. No exception thrown\n",
    "\n",
    "dic = dict(zip(list1, list2))\n",
    "print(dic)"
   ]
  },
  {
   "cell_type": "code",
   "execution_count": 133,
   "metadata": {},
   "outputs": [
    {
     "name": "stdout",
     "output_type": "stream",
     "text": [
      "Apple\n",
      "Mango\n",
      "Banana\n",
      "Papaya\n",
      "\n",
      "100\n",
      "20\n",
      "40\n",
      "10\n"
     ]
    }
   ],
   "source": [
    "for k in dic:  # OR for k in p.keys() ==> both are same\n",
    "    print(k)\n",
    "    \n",
    "print()    \n",
    "for v in dic.values():\n",
    "    print(v)"
   ]
  },
  {
   "cell_type": "markdown",
   "metadata": {},
   "source": [
    "# Tuples\n",
    "\n",
    "- Like lists, but immutable. Cannot be updated/changed once created\n",
    "- Denoted with round brackets ( )\n",
    "\n",
    "#### Uses:\n",
    "- Faster than lists\n",
    "- For 'write-protected' code or constant data\n",
    "- To return multiple values from functions\n"
   ]
  },
  {
   "cell_type": "code",
   "execution_count": 142,
   "metadata": {},
   "outputs": [
    {
     "name": "stdout",
     "output_type": "stream",
     "text": [
      "(1, 2, 3, 'Hi')\n"
     ]
    }
   ],
   "source": [
    "t = (1, 2, 3, \"Hi\")\n",
    "print(t)\n",
    "# t[0] = 5 Not possible as item assignment is not supported"
   ]
  },
  {
   "cell_type": "code",
   "execution_count": 143,
   "metadata": {},
   "outputs": [
    {
     "name": "stdout",
     "output_type": "stream",
     "text": [
      "[1, 2, 3, 'Hi']\n",
      "[5, 2, 3, 'Hi']\n"
     ]
    }
   ],
   "source": [
    "# Converting tuple to list\n",
    "l = list(t)\n",
    "print(l)\n",
    "l[0] = 5 #Now assignment is possible\n",
    "print(l)"
   ]
  },
  {
   "cell_type": "code",
   "execution_count": 144,
   "metadata": {},
   "outputs": [
    {
     "name": "stdout",
     "output_type": "stream",
     "text": [
      "(5, 2, 3, 'Hi')\n"
     ]
    }
   ],
   "source": [
    "# Converting list to tuple\n",
    "t2 = tuple(l)\n",
    "print(t2)"
   ]
  },
  {
   "cell_type": "code",
   "execution_count": 146,
   "metadata": {},
   "outputs": [
    {
     "name": "stdout",
     "output_type": "stream",
     "text": [
      "(1, 2, 3, 'Hi', 5, 2, 3, 'Hi')\n",
      "(1, 2, 3, 'Hi', 1, 2, 3, 'Hi', 1, 2, 3, 'Hi')\n"
     ]
    }
   ],
   "source": [
    "# Concatenation\n",
    "print(t + t2)\n",
    "\n",
    "# Repetition\n",
    "print(t*3)"
   ]
  },
  {
   "cell_type": "code",
   "execution_count": 149,
   "metadata": {},
   "outputs": [
    {
     "name": "stdout",
     "output_type": "stream",
     "text": [
      "4\n",
      "6\n",
      "0 44\n"
     ]
    }
   ],
   "source": [
    "print(len(t))\n",
    "\n",
    "#print(max(t)) As we have both str and int type of data so cant be compared\n",
    "t3 = (1, 44, 2, 5, 0, 9)\n",
    "print(len(t3))\n",
    "print(min(t3), max(t3))"
   ]
  },
  {
   "cell_type": "code",
   "execution_count": null,
   "metadata": {},
   "outputs": [],
   "source": [
    "# del t[0] Cant delete individual item\n",
    "del t #Deletes whole tuple\n",
    "# print(t) Gives t not defined error"
   ]
  },
  {
   "cell_type": "markdown",
   "metadata": {},
   "source": [
    "# Sets\n",
    "\n",
    "- Unique elements stored\n",
    "- Not ordered (depends on internal implementation (to maximise efficiency), can be random)\n",
    "- Like mathematical sets, allow union, intersection, add, subtract, etc\n",
    "- Denoted using curly brackets (but without : as in dictionaries)"
   ]
  },
  {
   "cell_type": "code",
   "execution_count": 165,
   "metadata": {},
   "outputs": [
    {
     "name": "stdout",
     "output_type": "stream",
     "text": [
      "{1, 2, 3, 4, 15}\n",
      "{1, 11, 5, 6}\n"
     ]
    }
   ],
   "source": [
    "# Creation\n",
    "\n",
    "# 1\n",
    "s1 = {3, 15, 1, 1, 2, 1, 4}\n",
    "print(s1)\n",
    "\n",
    "# 2\n",
    "s2 = set([5, 6, 11, 1, 1])\n",
    "print(s2)"
   ]
  },
  {
   "cell_type": "code",
   "execution_count": 166,
   "metadata": {},
   "outputs": [
    {
     "name": "stdout",
     "output_type": "stream",
     "text": [
      "{1, 2, 3, 4, 15, 50}\n"
     ]
    }
   ],
   "source": [
    "# Insertion\n",
    "\n",
    "# 1\n",
    "s1.add(50)\n",
    "print(s1)\n",
    "\n",
    "# 2\n"
   ]
  },
  {
   "cell_type": "code",
   "execution_count": 170,
   "metadata": {},
   "outputs": [
    {
     "name": "stdout",
     "output_type": "stream",
     "text": [
      "{1, 2, 3, 4, 5, 6, 11, 15, 50}\n",
      "{1, 2, 3, 4, 5, 6, 11, 15, 50}\n"
     ]
    }
   ],
   "source": [
    "# Union\n",
    "\n",
    "# 1\n",
    "s2 = s2.union(s1)\n",
    "print(s2)\n",
    "\n",
    "# 2\n",
    "s2 = set([5, 6, 11, 1, 1])\n",
    "s2 = s2 | s1\n",
    "print(s2)"
   ]
  },
  {
   "cell_type": "code",
   "execution_count": 182,
   "metadata": {},
   "outputs": [
    {
     "name": "stdout",
     "output_type": "stream",
     "text": [
      "{1, 2}\n",
      "{1, 2}\n"
     ]
    }
   ],
   "source": [
    "# Intersection\n",
    "\n",
    "# 1\n",
    "s1 = {3, 15, 1, 1, 2, 1, 4}\n",
    "s2 = set([5, 6, 2, 11, 1, 1])\n",
    "s2 = s2.intersection(s1)\n",
    "print(s2)\n",
    "\n",
    "# 2\n",
    "s1 = {3, 15, 1, 1, 2, 1, 4}\n",
    "s2 = set([5, 6, 2, 11, 1, 1])\n",
    "s2 = s2 & s1\n",
    "print(s2)"
   ]
  },
  {
   "cell_type": "code",
   "execution_count": 185,
   "metadata": {},
   "outputs": [
    {
     "name": "stdout",
     "output_type": "stream",
     "text": [
      "{3, 4, 15}\n",
      "{3, 4, 15}\n"
     ]
    }
   ],
   "source": [
    "# Difference\n",
    "s1 = {3, 15, 1, 1, 2, 1, 4}\n",
    "s2 = set([5, 6, 2, 11, 1, 1])\n",
    "\n",
    "# 1\n",
    "print(s1 - s2) # Removes common elements\n",
    "\n",
    "# 2\n",
    "print(s1.difference(s2))"
   ]
  },
  {
   "cell_type": "code",
   "execution_count": 188,
   "metadata": {},
   "outputs": [
    {
     "name": "stdout",
     "output_type": "stream",
     "text": [
      "set()\n",
      "Not present\n"
     ]
    }
   ],
   "source": [
    "s1.clear()\n",
    "print(s1)\n",
    "\n",
    "if 4 in s2:\n",
    "    print(\"Present\")\n",
    "else:\n",
    "    print(\"Not present\")"
   ]
  },
  {
   "cell_type": "code",
   "execution_count": 191,
   "metadata": {},
   "outputs": [
    {
     "name": "stdout",
     "output_type": "stream",
     "text": [
      "{1, 5}\n"
     ]
    }
   ],
   "source": [
    "a1 = {1, 2, 3, 4}\n",
    "a2 = {2, 3, 4, 5}\n",
    "print(a1 ^ a2)  # In exactly one set only\n"
   ]
  },
  {
   "cell_type": "code",
   "execution_count": null,
   "metadata": {},
   "outputs": [],
   "source": []
  }
 ],
 "metadata": {
  "kernelspec": {
   "display_name": "Python 3",
   "language": "python",
   "name": "python3"
  },
  "language_info": {
   "codemirror_mode": {
    "name": "ipython",
    "version": 3
   },
   "file_extension": ".py",
   "mimetype": "text/x-python",
   "name": "python",
   "nbconvert_exporter": "python",
   "pygments_lexer": "ipython3",
   "version": "3.7.0"
  }
 },
 "nbformat": 4,
 "nbformat_minor": 2
}
