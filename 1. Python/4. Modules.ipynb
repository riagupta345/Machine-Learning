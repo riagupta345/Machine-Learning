{
 "cells": [
  {
   "cell_type": "markdown",
   "metadata": {},
   "source": [
    "## Modules\n",
    "\n",
    "- Like header files in C++\n",
    "- To allow reusability of code\n",
    "- Can be imported by other programs\n",
    "- Python has standard library of modules (math, cmath, sys, etc)"
   ]
  },
  {
   "cell_type": "code",
   "execution_count": 2,
   "metadata": {},
   "outputs": [
    {
     "name": "stdout",
     "output_type": "stream",
     "text": [
      "120\n"
     ]
    }
   ],
   "source": [
    "import math\n",
    "print(math.factorial(5))"
   ]
  },
  {
   "cell_type": "code",
   "execution_count": 3,
   "metadata": {},
   "outputs": [
    {
     "name": "stdout",
     "output_type": "stream",
     "text": [
      "720\n"
     ]
    }
   ],
   "source": [
    "from math import factorial\n",
    "print(factorial(6))"
   ]
  },
  {
   "cell_type": "code",
   "execution_count": 6,
   "metadata": {
    "scrolled": false
   },
   "outputs": [
    {
     "name": "stdout",
     "output_type": "stream",
     "text": [
      "7\n",
      "6\n",
      "1.0\n",
      "5.0\n",
      "3.141592653589793\n",
      "inf\n",
      "-inf\n"
     ]
    }
   ],
   "source": [
    "print(math.floor(15/2))\n",
    "print(math.gcd(12, 6))\n",
    "print(math.log(math.e))\n",
    "print(math.log(32, 2))\n",
    "print(math.pi)\n",
    "print(math.inf)\n",
    "print(-math.inf)"
   ]
  },
  {
   "cell_type": "code",
   "execution_count": 9,
   "metadata": {},
   "outputs": [
    {
     "name": "stdout",
     "output_type": "stream",
     "text": [
      "15\n",
      "34\n"
     ]
    }
   ],
   "source": [
    "print(sum([1, 2, 3, 4, 5]))\n",
    "print(max([1, 12, 34, 4, 5]))"
   ]
  },
  {
   "cell_type": "markdown",
   "metadata": {},
   "source": [
    "#### Sys Module\n",
    "- Provides access to variables and functions related to system or Python interpreter\n"
   ]
  },
  {
   "cell_type": "code",
   "execution_count": 12,
   "metadata": {},
   "outputs": [
    {
     "name": "stdout",
     "output_type": "stream",
     "text": [
      "['/Users/riagupta/anaconda3/lib/python3.7/site-packages/ipykernel_launcher.py', '-f', '/Users/riagupta/Library/Jupyter/runtime/kernel-c05c8afb-5e26-4414-a6f1-6649f8225516.json']\n"
     ]
    }
   ],
   "source": [
    "import sys\n",
    "print(sys.argv) # ==> See sublime text file"
   ]
  },
  {
   "cell_type": "code",
   "execution_count": 21,
   "metadata": {},
   "outputs": [
    {
     "name": "stdout",
     "output_type": "stream",
     "text": [
      "['/Users/riagupta/anaconda3/lib/python3.7/site-packages/ipykernel_launcher.py', '-f', '/Users/riagupta/Library/Jupyter/runtime/kernel-c05c8afb-5e26-4414-a6f1-6649f8225516.json']\n",
      "\n",
      "3.7.0 (default, Jun 28 2018, 07:39:16) \n",
      "[Clang 4.0.1 (tags/RELEASE_401/final)]\n",
      "\n",
      "['', '/Users/riagupta/Desktop/ML', '/Users/riagupta/anaconda3/lib/python37.zip', '/Users/riagupta/anaconda3/lib/python3.7', '/Users/riagupta/anaconda3/lib/python3.7/lib-dynload', '/Users/riagupta/anaconda3/lib/python3.7/site-packages', '/Users/riagupta/anaconda3/lib/python3.7/site-packages/aeosa', '/Users/riagupta/anaconda3/lib/python3.7/site-packages/IPython/extensions', '/Users/riagupta/.ipython']\n",
      "\n",
      "9223372036854775807\n"
     ]
    }
   ],
   "source": [
    "def printData():\n",
    "    print(sys.argv)\n",
    "\n",
    "def printSum():\n",
    "    print(int(sys.argv[1]) + int(sys.argv[2]))\n",
    "\n",
    "printData()\n",
    "# printSum() ==> Wont work in Jupyter notebooks, see Sublime Text folder on Desktop\n",
    "\n",
    "print()\n",
    "print(sys.version) # ==> Version of Python\n",
    "print()\n",
    "print(sys.path) # Interpreter will search for packages in all these paths\n",
    "print()\n",
    "print(sys.maxsize)"
   ]
  },
  {
   "cell_type": "code",
   "execution_count": 22,
   "metadata": {},
   "outputs": [
    {
     "name": "stdout",
     "output_type": "stream",
     "text": [
      "__main__\n"
     ]
    }
   ],
   "source": [
    "print(__name__)"
   ]
  },
  {
   "cell_type": "code",
   "execution_count": null,
   "metadata": {},
   "outputs": [],
   "source": []
  }
 ],
 "metadata": {
  "kernelspec": {
   "display_name": "Python 3",
   "language": "python",
   "name": "python3"
  },
  "language_info": {
   "codemirror_mode": {
    "name": "ipython",
    "version": 3
   },
   "file_extension": ".py",
   "mimetype": "text/x-python",
   "name": "python",
   "nbconvert_exporter": "python",
   "pygments_lexer": "ipython3",
   "version": "3.7.0"
  }
 },
 "nbformat": 4,
 "nbformat_minor": 2
}
