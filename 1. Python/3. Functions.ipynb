{
 "cells": [
  {
   "cell_type": "markdown",
   "metadata": {},
   "source": [
    "# Functions"
   ]
  },
  {
   "cell_type": "code",
   "execution_count": 4,
   "metadata": {},
   "outputs": [
    {
     "name": "stdout",
     "output_type": "stream",
     "text": [
      "Knock knock knock, Penny\n",
      "Knock knock knock, Penny\n",
      "Knock knock knock, Penny\n",
      "Knock knock knock, Penny\n",
      "Knock knock knock, Penny\n"
     ]
    }
   ],
   "source": [
    "def Sheldon(name, num = 3):\n",
    "    for i in range(num):\n",
    "        print(\"Knock knock knock, {}\".format(name))\n",
    "\n",
    "Sheldon(\"Penny\", 5)"
   ]
  },
  {
   "cell_type": "code",
   "execution_count": 5,
   "metadata": {},
   "outputs": [
    {
     "name": "stdout",
     "output_type": "stream",
     "text": [
      "Knock knock knock, Penny\n",
      "Knock knock knock, Penny\n",
      "Knock knock knock, Penny\n"
     ]
    }
   ],
   "source": [
    "Sheldon(\"Penny\")"
   ]
  },
  {
   "cell_type": "markdown",
   "metadata": {},
   "source": [
    "#### Try, Except, Finally blocks"
   ]
  },
  {
   "cell_type": "code",
   "execution_count": 10,
   "metadata": {},
   "outputs": [
    {
     "name": "stdout",
     "output_type": "stream",
     "text": [
      "End\n",
      "2.5\n"
     ]
    }
   ],
   "source": [
    "def divide(a, b):\n",
    "    try:\n",
    "        return a/b\n",
    "    except:\n",
    "        print(\"Error\")\n",
    "    finally:\n",
    "        print(\"End\")\n",
    "        \n",
    "x = divide(10, 4)\n",
    "print(x)\n",
    "\n",
    "# When function runs, finally block is ALWAYS implemented"
   ]
  },
  {
   "cell_type": "code",
   "execution_count": 11,
   "metadata": {},
   "outputs": [
    {
     "name": "stdout",
     "output_type": "stream",
     "text": [
      "End\n",
      "1000\n"
     ]
    }
   ],
   "source": [
    "# If finally block has a return statement, it will always be executed. All other return statements will be ignored\n",
    "\n",
    "def divide(a, b):\n",
    "    try:\n",
    "        return a/b\n",
    "    except:\n",
    "        print(\"Error\")\n",
    "    finally:\n",
    "        print(\"End\")\n",
    "        return 1000\n",
    "\n",
    "x = divide(10, 4)\n",
    "print(x)"
   ]
  },
  {
   "cell_type": "markdown",
   "metadata": {},
   "source": [
    "#### Local and Global Variables"
   ]
  },
  {
   "cell_type": "code",
   "execution_count": 16,
   "metadata": {},
   "outputs": [
    {
     "name": "stdout",
     "output_type": "stream",
     "text": [
      "5\n"
     ]
    }
   ],
   "source": [
    "x = 5\n",
    "def show():\n",
    "    # x = 5 Okay\n",
    "    # x = x+5 Gives exception that local variable referenced before assignment => Cant update global variable directly\n",
    "    global x  # To explicitly mention that we are going to use and update global variable\n",
    "    print(x)\n",
    "\n",
    "show()"
   ]
  },
  {
   "cell_type": "markdown",
   "metadata": {},
   "source": [
    "### Enclosures or Nested Functions"
   ]
  },
  {
   "cell_type": "code",
   "execution_count": 18,
   "metadata": {},
   "outputs": [
    {
     "name": "stdout",
     "output_type": "stream",
     "text": [
      "Inner local\n",
      "Outer local\n"
     ]
    }
   ],
   "source": [
    "def outerFunc():\n",
    "    x = \"local\"\n",
    "    \n",
    "    def innerFunc():\n",
    "        print(\"Inner\", x)\n",
    "    \n",
    "    innerFunc()\n",
    "    print(\"Outer\", x)\n",
    "\n",
    "outerFunc()"
   ]
  },
  {
   "cell_type": "code",
   "execution_count": 22,
   "metadata": {},
   "outputs": [
    {
     "name": "stdout",
     "output_type": "stream",
     "text": [
      "Inner 15\n",
      "Outer 15\n"
     ]
    }
   ],
   "source": [
    "def outerFunc():\n",
    "    x = 10\n",
    "    \n",
    "    def innerFunc():\n",
    "#        x = x+5 Gives error that no local var\n",
    "#        global x Will access global x of previous cell where x = 5, but we want enclosing scope one\n",
    "        nonlocal x\n",
    "        x = x+5\n",
    "        print(\"Inner\", x)\n",
    "    \n",
    "    innerFunc()\n",
    "    print(\"Outer\", x)\n",
    "\n",
    "outerFunc()"
   ]
  },
  {
   "cell_type": "code",
   "execution_count": 26,
   "metadata": {},
   "outputs": [
    {
     "name": "stdout",
     "output_type": "stream",
     "text": [
      "Hello world python lol hehe\n"
     ]
    }
   ],
   "source": [
    "def abc(a, b, c, d = \"lol\", e = \"haha\"):\n",
    "    print(a, b, c, d, e)\n",
    "\n",
    "abc(\"Hello\", \"world\", \"python\", e=\"hehe\") #when default values are given, we can also change only one specific default"
   ]
  },
  {
   "cell_type": "markdown",
   "metadata": {},
   "source": [
    "### Packed Arguments (*args)\n",
    "- Takes any number of arguments => 0 or 10000, we don't have to specify\n",
    "- Stored in a tuple"
   ]
  },
  {
   "cell_type": "code",
   "execution_count": 34,
   "metadata": {},
   "outputs": [
    {
     "name": "stdout",
     "output_type": "stream",
     "text": [
      "()\n",
      "(1.0,)\n",
      "(1, 2, 3)\n",
      "('hello', 1, 3.0)\n"
     ]
    }
   ],
   "source": [
    "def show(*args):\n",
    "    print(args)\n",
    "    \n",
    "show()\n",
    "show(1.0)\n",
    "show(1, 2, 3)\n",
    "show(\"hello\", 1, 3.0)"
   ]
  },
  {
   "cell_type": "code",
   "execution_count": 35,
   "metadata": {},
   "outputs": [
    {
     "name": "stdout",
     "output_type": "stream",
     "text": [
      "('ria',)\n"
     ]
    }
   ],
   "source": [
    "def show2(a, b, *args):\n",
    "    print(args)\n",
    "\n",
    "show2(1, 2, \"ria\")"
   ]
  },
  {
   "cell_type": "code",
   "execution_count": 38,
   "metadata": {},
   "outputs": [
    {
     "name": "stdout",
     "output_type": "stream",
     "text": [
      "10 20\n",
      "('Ria', 'Gupta', 'lol')\n",
      "?? 20\n"
     ]
    }
   ],
   "source": [
    "def func(a, b, c, *args, d = 10, e = 20):\n",
    "    print(a, b)\n",
    "    print(args)\n",
    "    print(d, e)\n",
    "    \n",
    "func(10, 20, 30, \"Ria\", \"Gupta\", \"lol\", d = \"??\")   # we have to explicitly assign '??' to d, otherwise all \n",
    "                                                    # arguments would continue to be packed in args"
   ]
  },
  {
   "cell_type": "markdown",
   "metadata": {},
   "source": [
    "### Keyworded Arguments (**kwargs)\n",
    "- Store K and V pairs in a dictionary\n",
    "\n",
    "\n",
    "###### Order to be followed in function signature:\n",
    "1. Normal arguments\n",
    "2. Packed arguments (*args)\n",
    "3. Default arguments\n",
    "4. Keyworded arguments (**kwargs)"
   ]
  },
  {
   "cell_type": "code",
   "execution_count": 43,
   "metadata": {},
   "outputs": [
    {
     "name": "stdout",
     "output_type": "stream",
     "text": [
      "1 2\n",
      "(3.5, 4, 'lol', 5)\n",
      "50 20\n",
      "{'name': 'Ria', 'surname': 'Gupta'}\n"
     ]
    }
   ],
   "source": [
    "def func2(a, b, c, *args, d = 10, e = 20, **kwargs):\n",
    "    print(a, b)\n",
    "    print(args)\n",
    "    print(d, e)\n",
    "    print(kwargs)\n",
    "    \n",
    "func2(1, 2, 3, 3.5, 4, \"lol\", 5, d = 50, name = \"Ria\", surname = \"Gupta\")  # has not seen name/surname as \n",
    "                                                                           # formal argument names => go to kwargs\n",
    "\n",
    "# Args stores 3.5, 4, 'lol', 5 in a tuple\n",
    "# Kwargs stores name and surname as keys and Ria and Gupta as values in a dictionary"
   ]
  },
  {
   "cell_type": "markdown",
   "metadata": {},
   "source": [
    "### Lambda Functions"
   ]
  },
  {
   "cell_type": "code",
   "execution_count": 49,
   "metadata": {},
   "outputs": [
    {
     "name": "stdout",
     "output_type": "stream",
     "text": [
      "<function <lambda> at 0x110d15a60>\n",
      "3\n"
     ]
    }
   ],
   "source": [
    "def add(a, b):\n",
    "    return a+b\n",
    "\n",
    "# Same as\n",
    "fun = lambda a, b: a+b\n",
    "print(fun) # Shows type of x ==> as x is a function object\n",
    "\n",
    "x = fun(1, 2)\n",
    "print(x)"
   ]
  },
  {
   "cell_type": "markdown",
   "metadata": {},
   "source": [
    "###### Custom Sorting using Lambda functions\n",
    "- Pass second argument with arg name as 'key'"
   ]
  },
  {
   "cell_type": "code",
   "execution_count": 57,
   "metadata": {},
   "outputs": [
    {
     "name": "stdout",
     "output_type": "stream",
     "text": [
      "1st sort [('H', 4), ('M', 2), ('N', 1), ('R', 3)]\n",
      "2nd sort [('N', 1), ('M', 2), ('R', 3), ('H', 4)]\n"
     ]
    }
   ],
   "source": [
    "a = [(\"R\", 3), (\"M\", 2), (\"H\", 4), (\"N\", 1)]\n",
    "l = sorted(a)  # Doesnt change list, and sorts according to first arg (names)\n",
    "print(\"1st sort\", l)\n",
    "\n",
    "l2 = sorted(a, key = lambda x: x[1])  # Takes an object x as input and has to sort on 2nd argument of the object x\n",
    "print(\"2nd sort\", l2)"
   ]
  },
  {
   "cell_type": "markdown",
   "metadata": {},
   "source": [
    "### Decorators"
   ]
  },
  {
   "cell_type": "code",
   "execution_count": 79,
   "metadata": {},
   "outputs": [],
   "source": [
    "# Authentication function\n",
    "def login(function):\n",
    "    def wrapper(username, password, *args, **kwargs):\n",
    "        if username in allUsers and allUsers[username] == password:\n",
    "            function(*args, **kwargs)  # Call reqd function as user is now authenticated\n",
    "        else:\n",
    "            print(\"Invalid user, not authenticated\")\n",
    "    return wrapper\n",
    "\n",
    "allUsers = {\n",
    "    \"Ria\" : \"abc123\",\n",
    "    \"Kaku\": \"hgupta\"\n",
    "}"
   ]
  },
  {
   "cell_type": "code",
   "execution_count": 83,
   "metadata": {},
   "outputs": [
    {
     "name": "stdout",
     "output_type": "stream",
     "text": [
      "<function login.<locals>.wrapper at 0x110d15378>\n",
      "3\n",
      "Invalid user, not authenticated\n"
     ]
    }
   ],
   "source": [
    "def add(a, b):\n",
    "    print(a+b)\n",
    "\n",
    "print(login(add)) # Shows that type is function\n",
    "\n",
    "val = login(add) # Assign this function to val. Now val is the protected function we have to call (which is protected)\n",
    "val(\"Ria\", \"abc123\", 1, 2)\n",
    "val(\"Ria\", \"lolol\", 2, 3)\n",
    "\n",
    "# login(add)(\"Ria\", \"abc123\", 1, 2) ==> This also works"
   ]
  },
  {
   "cell_type": "markdown",
   "metadata": {},
   "source": [
    "###### Decorator to do the same thing"
   ]
  },
  {
   "cell_type": "code",
   "execution_count": 84,
   "metadata": {},
   "outputs": [
    {
     "name": "stdout",
     "output_type": "stream",
     "text": [
      "30\n"
     ]
    }
   ],
   "source": [
    "@login\n",
    "def add2(a, b):\n",
    "    print(a + b)\n",
    "    \n",
    "add2(\"Ria\", \"abc123\", 10, 20)\n",
    "\n",
    "# This is equivalent to doing:\n",
    "# val = login(add2) \n",
    "# val(\"Ria\", \"abc123\", 10, 20)"
   ]
  },
  {
   "cell_type": "code",
   "execution_count": null,
   "metadata": {},
   "outputs": [],
   "source": []
  }
 ],
 "metadata": {
  "kernelspec": {
   "display_name": "Python 3",
   "language": "python",
   "name": "python3"
  },
  "language_info": {
   "codemirror_mode": {
    "name": "ipython",
    "version": 3
   },
   "file_extension": ".py",
   "mimetype": "text/x-python",
   "name": "python",
   "nbconvert_exporter": "python",
   "pygments_lexer": "ipython3",
   "version": "3.7.0"
  }
 },
 "nbformat": 4,
 "nbformat_minor": 2
}
