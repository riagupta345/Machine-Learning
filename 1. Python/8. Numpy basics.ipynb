{
 "cells": [
  {
   "cell_type": "code",
   "execution_count": 1,
   "metadata": {},
   "outputs": [],
   "source": [
    "import numpy as np"
   ]
  },
  {
   "cell_type": "code",
   "execution_count": 5,
   "metadata": {},
   "outputs": [
    {
     "name": "stdout",
     "output_type": "stream",
     "text": [
      "[1 2 3 4 5]\n",
      "Shape of a: (5,)\n",
      "<class 'numpy.ndarray'>\n"
     ]
    }
   ],
   "source": [
    "a = np.array([1, 2, 3, 4, 5])\n",
    "print(a)\n",
    "print(\"Shape of a:\", a.shape)\n",
    "print(type(a))"
   ]
  },
  {
   "cell_type": "code",
   "execution_count": 7,
   "metadata": {},
   "outputs": [
    {
     "name": "stdout",
     "output_type": "stream",
     "text": [
      "[[1]\n",
      " [2]\n",
      " [3]\n",
      " [4]\n",
      " [5]]\n",
      "Shape of b: (5, 1)\n",
      "<class 'numpy.ndarray'>\n"
     ]
    }
   ],
   "source": [
    "b = np.array([[1], [2], [3], [4], [5]])\n",
    "print(b)\n",
    "print(\"Shape of b:\", b.shape)\n",
    "print(type(b))\n",
    "\n",
    "# Shapes (5,) and (5, 1) are different\n",
    "# (5, ) => Linear array, elements accessed as a[i]\n",
    "# (5, 1) => 2D array of 5 rows and 1 column, elements accessed as b[i][0]"
   ]
  },
  {
   "cell_type": "code",
   "execution_count": 9,
   "metadata": {},
   "outputs": [
    {
     "name": "stdout",
     "output_type": "stream",
     "text": [
      "[[1 2 3]\n",
      " [4 5 6]]\n",
      "Shape of c: (2, 3)\n",
      "5\n"
     ]
    }
   ],
   "source": [
    "c = np.array([[1, 2, 3], [4, 5, 6]])\n",
    "print(c)\n",
    "print(\"Shape of c:\", c.shape)\n",
    "print(c[1][1])"
   ]
  },
  {
   "cell_type": "code",
   "execution_count": 32,
   "metadata": {},
   "outputs": [
    {
     "name": "stdout",
     "output_type": "stream",
     "text": [
      "[[0. 0. 0.]\n",
      " [0. 0. 0.]\n",
      " [0. 0. 0.]]\n",
      "\n",
      "[[1. 1. 1.]\n",
      " [1. 1. 1.]]\n",
      "<class 'numpy.float64'>\n",
      "\n",
      "[[5 5]\n",
      " [5 5]\n",
      " [5 5]]\n",
      "\n",
      "[[1. 0. 0.]\n",
      " [0. 1. 0.]\n",
      " [0. 0. 1.]]\n"
     ]
    }
   ],
   "source": [
    "# Array of zeroes, ones, constants, identity matrix\n",
    "\n",
    "a = np.zeros((3, 3))\n",
    "print(a)\n",
    "print()\n",
    "\n",
    "b = np.ones((2, 3))\n",
    "print(b)\n",
    "print(type(b[1][2])) # => Each element is of float type in zeros/ones\n",
    "print()\n",
    "\n",
    "c = np.full((3, 2), 5)\n",
    "print(c)\n",
    "print()\n",
    "\n",
    "d = np.eye(3)\n",
    "print(d)"
   ]
  },
  {
   "cell_type": "code",
   "execution_count": 42,
   "metadata": {},
   "outputs": [
    {
     "name": "stdout",
     "output_type": "stream",
     "text": [
      "[[0.86648286 0.88129731 0.54899013]\n",
      " [0.4449494  0.01803557 0.96990736]]\n"
     ]
    }
   ],
   "source": [
    "# Random matrix (useful in neural networks)\n",
    "randomMatrix = np.random.random((2, 3))\n",
    "print(randomMatrix)"
   ]
  },
  {
   "cell_type": "code",
   "execution_count": 46,
   "metadata": {},
   "outputs": [
    {
     "name": "stdout",
     "output_type": "stream",
     "text": [
      "[0.88129731 0.01803557]\n",
      "[0.54899013 0.96990736]\n",
      "[0.01803557 0.96990736]\n"
     ]
    }
   ],
   "source": [
    "# To access all elements of second column => [rows, cols]\n",
    "print(randomMatrix[ : , 1])\n",
    "\n",
    "# To access all elements of third column\n",
    "print(randomMatrix[ : , 2])\n",
    "\n",
    "# To access second and third elements of second row\n",
    "print(randomMatrix[1, 1:])"
   ]
  },
  {
   "cell_type": "code",
   "execution_count": 47,
   "metadata": {},
   "outputs": [
    {
     "name": "stdout",
     "output_type": "stream",
     "text": [
      "[[0.86648286 0.88129731 0.54899013]\n",
      " [0.4449494  1.         1.        ]]\n"
     ]
    }
   ],
   "source": [
    "# Updating second and third elements of second row\n",
    "randomMatrix[1, 1:] = 1        # ==> Slicing operation\n",
    "print(randomMatrix)"
   ]
  },
  {
   "cell_type": "code",
   "execution_count": 53,
   "metadata": {},
   "outputs": [
    {
     "name": "stdout",
     "output_type": "stream",
     "text": [
      "[[0. 0. 0.]\n",
      " [0. 0. 0.]\n",
      " [0. 0. 0.]]\n",
      "\n",
      "[[0. 0. 7.]\n",
      " [5. 5. 7.]\n",
      " [0. 0. 7.]]\n"
     ]
    }
   ],
   "source": [
    "z = np.zeros((3,3))\n",
    "print(z)\n",
    "print()\n",
    "\n",
    "z[1, :] = 5  # Second row, all columns as 5\n",
    "z[:, -1] = 7 # All rows, last column as 7\n",
    "print(z)"
   ]
  },
  {
   "cell_type": "code",
   "execution_count": 58,
   "metadata": {},
   "outputs": [
    {
     "name": "stdout",
     "output_type": "stream",
     "text": [
      "[[0. 0. 0.]\n",
      " [5. 5. 5.]\n",
      " [0. 0. 0.]]\n",
      "float64\n",
      "[[0 0 0]\n",
      " [5 5 5]\n",
      " [0 0 0]]\n",
      "int64\n"
     ]
    }
   ],
   "source": [
    "x = np.zeros((3,3))\n",
    "x[1, :] = 5\n",
    "print(x)\n",
    "print(x.dtype)\n",
    "\n",
    "y = np.zeros((3,3), dtype = np.int64)\n",
    "y[1, :] = 5\n",
    "print(y)\n",
    "print(y.dtype)"
   ]
  },
  {
   "cell_type": "markdown",
   "metadata": {},
   "source": [
    "### Mathematical Operations\n",
    "- Add: x+y or np.add(x, y)\n",
    "- Subtract\n",
    "- Multiply\n",
    "- Divide\n",
    "- Square Root\n",
    "- Dot Product\n",
    "- Sum (axis-wise)"
   ]
  },
  {
   "cell_type": "code",
   "execution_count": 67,
   "metadata": {},
   "outputs": [
    {
     "name": "stdout",
     "output_type": "stream",
     "text": [
      "[[ 6  8]\n",
      " [10 12]]\n",
      "[[ 6  8]\n",
      " [10 12]]\n",
      "\n",
      "[[-4 -4]\n",
      " [-4 -4]]\n",
      "[[-4 -4]\n",
      " [-4 -4]]\n",
      "\n",
      "[[ 5 12]\n",
      " [21 32]]\n",
      "[[ 5 12]\n",
      " [21 32]]\n",
      "\n",
      "[[0.2        0.33333333]\n",
      " [0.42857143 0.5       ]]\n",
      "[[0.2        0.33333333]\n",
      " [0.42857143 0.5       ]]\n",
      "\n",
      "[[1.         1.41421356]\n",
      " [1.73205081 2.        ]]\n"
     ]
    }
   ],
   "source": [
    "x = np.array([[1, 2], [3, 4]])\n",
    "y = np.array([[5, 6], [7, 8]])\n",
    "\n",
    "print(x+y)\n",
    "print(np.add(x, y))\n",
    "print()\n",
    "\n",
    "print(x-y)\n",
    "print(np.subtract(x, y))\n",
    "print()\n",
    "\n",
    "# Element-wise multiplication (not matrix multiplication or dot product)\n",
    "print(x*y)\n",
    "print(np.multiply(x, y))\n",
    "print()\n",
    "\n",
    "print(x/y)\n",
    "print(np.divide(x, y))\n",
    "print()\n",
    "\n",
    "print(np.sqrt(x))"
   ]
  },
  {
   "cell_type": "code",
   "execution_count": 69,
   "metadata": {},
   "outputs": [
    {
     "name": "stdout",
     "output_type": "stream",
     "text": [
      "[[1 2]\n",
      " [3 4]]\n",
      "[[5 6]\n",
      " [7 8]]\n",
      "[[19 22]\n",
      " [43 50]]\n",
      "[[19 22]\n",
      " [43 50]]\n"
     ]
    }
   ],
   "source": [
    "# Matrix Multiplication (Dot Product)\n",
    "\n",
    "print(x)\n",
    "print(y)\n",
    "\n",
    "print(x.dot(y))\n",
    "print(np.dot(x, y))"
   ]
  },
  {
   "cell_type": "code",
   "execution_count": 71,
   "metadata": {},
   "outputs": [
    {
     "name": "stdout",
     "output_type": "stream",
     "text": [
      "30\n"
     ]
    }
   ],
   "source": [
    "# Dot Product of Vectors => Returns a Scalar\n",
    "a = np.array([1, 2, 3, 4])\n",
    "b = np.array([1, 2, 3, 4])\n",
    "print(a.dot(b))"
   ]
  },
  {
   "cell_type": "code",
   "execution_count": 74,
   "metadata": {},
   "outputs": [
    {
     "name": "stdout",
     "output_type": "stream",
     "text": [
      "[1 2 3 4]\n",
      "10\n"
     ]
    }
   ],
   "source": [
    "print(a)\n",
    "print(sum(a))"
   ]
  },
  {
   "cell_type": "code",
   "execution_count": 87,
   "metadata": {},
   "outputs": [
    {
     "name": "stdout",
     "output_type": "stream",
     "text": [
      "[[1 2]\n",
      " [3 4]]\n",
      "[4 6]\n",
      "10\n",
      "\n",
      "[4 6]\n",
      "[3 7]\n"
     ]
    }
   ],
   "source": [
    "print(x)\n",
    "\n",
    "print(sum(x))                 # => Normal sum gives column-wise sum\n",
    "print(np.sum(x))              # => Sum of all matrix elements\n",
    "print()\n",
    "\n",
    "print(np.sum(x, axis = 0))    # => Column-wise sum when axis = 0\n",
    "print(np.sum(x, axis = 1))    # => Row-wise sum when axis = 1"
   ]
  },
  {
   "cell_type": "markdown",
   "metadata": {},
   "source": [
    "### Stacking of Arrays"
   ]
  },
  {
   "cell_type": "code",
   "execution_count": 92,
   "metadata": {},
   "outputs": [
    {
     "name": "stdout",
     "output_type": "stream",
     "text": [
      "[1 2 3 4] [1 2 3 4]\n",
      "[1 2 3 4] [ 1  4  9 16]\n"
     ]
    }
   ],
   "source": [
    "a = b = np.array([1, 2, 3, 4])\n",
    "print(a, b)\n",
    "b = b**2\n",
    "print(a, b)"
   ]
  },
  {
   "cell_type": "code",
   "execution_count": 97,
   "metadata": {},
   "outputs": [
    {
     "name": "stdout",
     "output_type": "stream",
     "text": [
      "[[ 1  2  3  4]\n",
      " [ 1  4  9 16]]\n",
      "[[ 1  1]\n",
      " [ 2  4]\n",
      " [ 3  9]\n",
      " [ 4 16]]\n"
     ]
    }
   ],
   "source": [
    "print(np.stack((a, b), axis = 0))  # => Stack arrays column wise, so each array becomes a row\n",
    "print(np.stack((a, b), axis = 1))  # => Stack arrays row wise, so each array becomes a column"
   ]
  },
  {
   "cell_type": "markdown",
   "metadata": {},
   "source": [
    "### Reshaping a Numpy Array"
   ]
  },
  {
   "cell_type": "code",
   "execution_count": 111,
   "metadata": {},
   "outputs": [
    {
     "name": "stdout",
     "output_type": "stream",
     "text": [
      "[[1 2 3 4]\n",
      " [5 6 7 8]]\n",
      "Shape: (2, 4)\n",
      "\n",
      "[[1 2]\n",
      " [3 4]\n",
      " [5 6]\n",
      " [7 8]]\n",
      "\n",
      "[[1]\n",
      " [2]\n",
      " [3]\n",
      " [4]\n",
      " [5]\n",
      " [6]\n",
      " [7]\n",
      " [8]]\n",
      "\n",
      "[1 2 3 4 5 6 7 8]\n",
      "\n"
     ]
    }
   ],
   "source": [
    "a = np.array([[1, 2, 3, 4], [5, 6, 7, 8]])\n",
    "print(a)\n",
    "print(\"Shape:\", a.shape)\n",
    "print()\n",
    "\n",
    "print(a.reshape(4, 2))\n",
    "print()\n",
    "\n",
    "print(a.reshape(8,1))\n",
    "print()\n",
    "\n",
    "print(a.reshape(8,))\n",
    "print()"
   ]
  },
  {
   "cell_type": "code",
   "execution_count": 120,
   "metadata": {},
   "outputs": [
    {
     "name": "stdout",
     "output_type": "stream",
     "text": [
      "[[1 2 3 4]\n",
      " [5 6 7 8]]\n",
      "\n",
      "[[1 2]\n",
      " [3 4]\n",
      " [5 6]\n",
      " [7 8]]\n",
      "\n",
      "[[1 2 3 4]\n",
      " [5 6 7 8]]\n",
      "\n",
      "[[1 2 3 4 5 6 7 8]]\n",
      "\n",
      "[[1]\n",
      " [2]\n",
      " [3]\n",
      " [4]\n",
      " [5]\n",
      " [6]\n",
      " [7]\n",
      " [8]]\n"
     ]
    }
   ],
   "source": [
    "# When either no. of rows/columns are unknown: use -1\n",
    "print(a)\n",
    "print()\n",
    "\n",
    "print(a.reshape(4, -1)) # => 4 rows, unknown cols, therefore, 2 cols, as total num of elements = 8\n",
    "print()\n",
    "\n",
    "print(a.reshape(-1, 4)) # => unknown rows, 4 cols, therefore, 2 rows\n",
    "print()\n",
    "\n",
    "print(a.reshape(-1, 8)) # => unknown rows, 8 cols, therefore, 1 row\n",
    "print()\n",
    "\n",
    "print(a.reshape(8, -1)) # => 8 rows, unknown cols, therefore, 1 col"
   ]
  },
  {
   "cell_type": "markdown",
   "metadata": {},
   "source": [
    "### Statistical Operations\n",
    "- Min, max\n",
    "- Mean\n",
    "- Average\n",
    "- Median\n",
    "- Standard Deviation\n",
    "- Variance"
   ]
  },
  {
   "cell_type": "code",
   "execution_count": 125,
   "metadata": {},
   "outputs": [
    {
     "name": "stdout",
     "output_type": "stream",
     "text": [
      "[[1 2 3 4]\n",
      " [6 7 0 9]]\n",
      "0\n",
      "[1 2 0 4]\n",
      "[1 0]\n"
     ]
    }
   ],
   "source": [
    "a = np.array([[1, 2, 3, 4], [6, 7, 0, 9]])\n",
    "print(a)\n",
    "\n",
    "print(np.min(a))            # => Overall minimum\n",
    "print(np.min(a, axis = 0))  # => Col wise minimum\n",
    "print(np.min(a, axis = 1))  # => Row wise minimum"
   ]
  },
  {
   "cell_type": "code",
   "execution_count": 130,
   "metadata": {},
   "outputs": [
    {
     "name": "stdout",
     "output_type": "stream",
     "text": [
      "3.0\n",
      "3.0\n",
      "\n",
      "4.0\n",
      "[3.5 4.5 1.5 6.5]\n",
      "[2.5 5.5]\n"
     ]
    }
   ],
   "source": [
    "b = np.array([1, 2, 3, 4, 5])\n",
    "print(sum(b)/len(b))\n",
    "\n",
    "print(np.mean(b))\n",
    "print()\n",
    "\n",
    "print(np.mean(a))            # Overall mean\n",
    "print(np.mean(a, axis = 0))  # Col wise mean\n",
    "print(np.mean(a, axis = 1))  # Row wise mean"
   ]
  },
  {
   "cell_type": "code",
   "execution_count": 133,
   "metadata": {},
   "outputs": [
    {
     "name": "stdout",
     "output_type": "stream",
     "text": [
      "3.0\n",
      "4.0\n"
     ]
    }
   ],
   "source": [
    "c = np.array([1, 3, 5, 2, 7])\n",
    "d = np.array([1, 3, 5, 2, 7, 6])\n",
    "print(np.median(c))\n",
    "print(np.median(d))"
   ]
  },
  {
   "cell_type": "code",
   "execution_count": 139,
   "metadata": {},
   "outputs": [
    {
     "name": "stdout",
     "output_type": "stream",
     "text": [
      "3.6\n",
      "3.6\n",
      "4.333333333333333\n",
      "3.6\n"
     ]
    }
   ],
   "source": [
    "# Mean vs Average ==> Average is weighted mean where weights are specified as a separate array\n",
    "\n",
    "print(np.mean(c))                  # Unweighted\n",
    "\n",
    "print(np.average(c))               # Default is unweighted if weights array not specified (weights = None as default)\n",
    "w = [1, 2, 3, 4, 5]\n",
    "w2 = [1, 1, 1, 1, 1]\n",
    "print(np.average(c, weights=w))\n",
    "print(np.average(c, weights=w2))"
   ]
  },
  {
   "cell_type": "code",
   "execution_count": 142,
   "metadata": {},
   "outputs": [
    {
     "name": "stdout",
     "output_type": "stream",
     "text": [
      "2.1540659228538015\n",
      "2.1540659228538015\n",
      "4.64\n",
      "4.64\n"
     ]
    }
   ],
   "source": [
    "# Standard Deviation and Variance\n",
    "\n",
    "# SD = sqrt [(1/N) * Sum (Xi - U)^2]\n",
    "u = np.mean(c)\n",
    "mySD = np.sqrt(np.mean(abs(c - u)**2))\n",
    "print(mySD)\n",
    "print(np.std(c))\n",
    "\n",
    "# Variance\n",
    "print(mySD**2)\n",
    "print(np.var(c))"
   ]
  },
  {
   "cell_type": "markdown",
   "metadata": {},
   "source": [
    "### Numpy Random Module"
   ]
  },
  {
   "cell_type": "code",
   "execution_count": 165,
   "metadata": {},
   "outputs": [
    {
     "name": "stdout",
     "output_type": "stream",
     "text": [
      "[0 1 2 3 4 5 6 7 8 9]\n",
      "[ 5  6  7  8  9 10 11 12 13 14]\n",
      "[3 5 7 9]\n",
      "[4 6 8]\n",
      "[10  9  8  7  6  5  4  3  2]\n"
     ]
    }
   ],
   "source": [
    "# Arange(): To generate a range from 'start' to 'stop' with increment as 'step'\n",
    "\n",
    "a = np.arange(10)\n",
    "print(a)\n",
    "\n",
    "b = np.arange(10) + 5\n",
    "print(b)\n",
    "\n",
    "c = np.arange(3, 10, 2)\n",
    "d = np.arange(4, 10, 2)\n",
    "e = np.arange(10, 1, -1)\n",
    "print(c)\n",
    "print(d)\n",
    "print(e)"
   ]
  },
  {
   "cell_type": "code",
   "execution_count": 175,
   "metadata": {},
   "outputs": [
    {
     "name": "stdout",
     "output_type": "stream",
     "text": [
      "[5 0 8 9 4 2 3 1 7 6]\n"
     ]
    }
   ],
   "source": [
    "np.random.shuffle(a)   # Changes the array itself\n",
    "print(a)"
   ]
  },
  {
   "cell_type": "code",
   "execution_count": 200,
   "metadata": {},
   "outputs": [
    {
     "name": "stdout",
     "output_type": "stream",
     "text": [
      "[[0.41424477 0.63078536]\n",
      " [0.89224808 0.4218613 ]\n",
      " [0.89314689 0.22051986]]\n",
      "\n",
      "[[ 1.26002588  0.71193179  0.76206702]\n",
      " [ 0.80425504 -1.53100459  0.61050203]]\n",
      "\n",
      "[9 4 3 9 7 3]\n"
     ]
    }
   ],
   "source": [
    "# Random values from 0 to 1 (uniform distribution)\n",
    "x = np.random.rand(3, 2)\n",
    "print(x)\n",
    "print()\n",
    "\n",
    "# Random values from 0 to 1 (standard normal distribution)\n",
    "y = np.random.randn(2, 3)\n",
    "print(y)\n",
    "print()\n",
    "\n",
    "# Random int values from 'low' to 'high' (both inclusive)\n",
    "print(np.random.randint(3, 10, 6))"
   ]
  },
  {
   "cell_type": "code",
   "execution_count": 214,
   "metadata": {},
   "outputs": [
    {
     "name": "stdout",
     "output_type": "stream",
     "text": [
      "24\n"
     ]
    }
   ],
   "source": [
    "# Randomly pick one element from a given list\n",
    "e = np.random.choice([1, 6, 2, 8, 24, 7, 4])\n",
    "print(e)"
   ]
  },
  {
   "cell_type": "code",
   "execution_count": 248,
   "metadata": {},
   "outputs": [],
   "source": [
    "# Seed\n",
    "a = np.array([1, 2, 3, 4, 5, 6, 7, 8]) \n",
    "np.random.seed(1)      # To store state of a random number, so same sequence is generated next time\n",
    "\n",
    "# 1st shuffle will ALWAYS give [8 3 2 7 1 5 4 6] whenever we initialise array 'a' with 1 to 8 and shuffle once\n",
    "# 2nd shuffle will ALWAYS give [2 7 1 6 3 4 8 5] whenever we initialise array 'a' with 1 to 8 and shuffle twice\n",
    "# 3rd shuffle will ALWAYS give [6 2 5 4 3 1 7 8]\n",
    "# Thus, random state is stored\n",
    "# Sequence to be generated follows same pattern each time as seed value is 1"
   ]
  },
  {
   "cell_type": "code",
   "execution_count": 251,
   "metadata": {},
   "outputs": [
    {
     "name": "stdout",
     "output_type": "stream",
     "text": [
      "[6 2 5 4 3 1 7 8]\n"
     ]
    }
   ],
   "source": [
    "np.random.shuffle(a)\n",
    "print(a)"
   ]
  },
  {
   "cell_type": "code",
   "execution_count": null,
   "metadata": {},
   "outputs": [],
   "source": []
  }
 ],
 "metadata": {
  "kernelspec": {
   "display_name": "Python 3",
   "language": "python",
   "name": "python3"
  },
  "language_info": {
   "codemirror_mode": {
    "name": "ipython",
    "version": 3
   },
   "file_extension": ".py",
   "mimetype": "text/x-python",
   "name": "python",
   "nbconvert_exporter": "python",
   "pygments_lexer": "ipython3",
   "version": "3.7.0"
  }
 },
 "nbformat": 4,
 "nbformat_minor": 2
}
