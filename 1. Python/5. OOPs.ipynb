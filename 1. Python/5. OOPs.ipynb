{
 "cells": [
  {
   "cell_type": "markdown",
   "metadata": {},
   "source": [
    "## Object Oriented Programming in Python\n",
    "\n",
    "\n",
    "- Every class function must have 'self' object as parameter\n",
    "- No need to define the data members (attributes), just use them\n",
    "- Constructor is defined using __init__\n",
    "- Can give information inside init function, which can be accessed using '?'"
   ]
  },
  {
   "cell_type": "code",
   "execution_count": 16,
   "metadata": {},
   "outputs": [
    {
     "name": "stdout",
     "output_type": "stream",
     "text": [
      "Hello Ria!\n",
      "My name is Ria\n",
      "I study at DTU\n",
      "I am an Indian\n",
      "\n",
      "My name is Abc\n",
      "I study at NSIT\n",
      "I am an Indian\n",
      "\n"
     ]
    }
   ],
   "source": [
    "class Person:                        # Write class Person() if we have to inherit from some base class\n",
    "    \n",
    "    # Class variable => Same/common for every object of this class\n",
    "    nationality = \"Indian\"\n",
    "    \n",
    "    def __init__(self, pname, clg): # Constructor function => To initialize object of this class\n",
    "        # Instance variables => Different for every object/instance of the class\n",
    "        self.name = pname\n",
    "        self.college = clg\n",
    "    \n",
    "    def sayHi(self, name):         # Every function has 'self' object to refer to an object of this class\n",
    "        print(\"Hello \" + name)\n",
    "\n",
    "    def introduce(self):\n",
    "        print(\"My name is\", self.name)\n",
    "        print(\"I study at\", self.college)\n",
    "        print(\"I am an\", self.nationality)\n",
    "        print()\n",
    "        \n",
    "p = Person(\"Ria\", \"DTU\")\n",
    "p.sayHi(\"Ria!\")\n",
    "p.introduce()\n",
    "\n",
    "p2 = Person(\"Abc\", \"NSIT\")\n",
    "p2.introduce()"
   ]
  },
  {
   "cell_type": "markdown",
   "metadata": {},
   "source": [
    "### Class Variables vs Instance Variables\n",
    "- Mentioned in the start => Class variables (common for all objects, change for one object changes it for all)\n",
    "- Mentioned inside a function => Instance variables (separately defined for each object)\n",
    "\n",
    "### Access Modifiers\n",
    "- Default is public\n",
    "- Can be made private by adding double underscore __ to function name\n",
    "- Private functions cannot be directly accessed\n",
    "- Can be accessed only inside class (internally) or indirectly through another public function"
   ]
  },
  {
   "cell_type": "code",
   "execution_count": 38,
   "metadata": {},
   "outputs": [
    {
     "name": "stdout",
     "output_type": "stream",
     "text": [
      "My breed is German Shepherd\n",
      "['High Jump', 'Roll Over']\n",
      "German Shepherd is doing secret activity\n",
      "\n",
      "My breed is Golden Retriever\n",
      "['Low Jump', 'Roll Upside Down']\n",
      "Golden Retriever is doing secret activity\n",
      "\n"
     ]
    }
   ],
   "source": [
    "class Dog:\n",
    "    color = \"Brown\"\n",
    "    # This list is common for all data members of this class => All activities of any object added to same list\n",
    "    # So add individual list to constructor\n",
    "    # activities = []\n",
    "    \n",
    "    def __init__(self, breed):\n",
    "        \"\"\"This function accepts dog breed and initialises it\"\"\"\n",
    "        self.activities = []     # Now 'activities' is individual list for each instance\n",
    "        self.breed = breed\n",
    "    \n",
    "    def addActivity(self, act):\n",
    "        self.activities.append(act)\n",
    "        \n",
    "    def __secretActivity(self):\n",
    "        print(\"%s is doing secret activity\"%self.breed)\n",
    "    \n",
    "    def doActivity(self):\n",
    "        \"\"\"This function records dog activites\"\"\"\n",
    "        print(\"My breed is \"+ self.breed)\n",
    "        print(self.activities)\n",
    "        self.__secretActivity()   # Calling a private function\n",
    "        print()\n",
    "        \n",
    "d1 = Dog(\"German Shepherd\")\n",
    "d2 = Dog(\"Golden Retriever\")\n",
    "\n",
    "d1.addActivity(\"High Jump\")\n",
    "d1.addActivity(\"Roll Over\")\n",
    "\n",
    "d2.addActivity(\"Low Jump\")\n",
    "d2.addActivity(\"Roll Upside Down\")\n",
    "\n",
    "d1.doActivity()\n",
    "d2.doActivity()\n",
    "\n",
    "Dog?             # => Displays function signature, description, etc.\n",
    "Dog.doActivity?  # => Displays function signature, description, etc.\n",
    "# Remove comments and tabs after question mark to run this "
   ]
  },
  {
   "cell_type": "markdown",
   "metadata": {},
   "source": [
    "### Inheritance"
   ]
  },
  {
   "cell_type": "code",
   "execution_count": 54,
   "metadata": {},
   "outputs": [],
   "source": [
    "class SchoolMember:\n",
    "    def __init__(self, name, age):\n",
    "        '''Init of School Member'''\n",
    "        self.name = name\n",
    "        self.age = age\n",
    "        print(\"School member %s is initialised\" %(self.name))\n",
    "    \n",
    "    def introduce(self):\n",
    "        print(\"Info is Name: %s, Age: %d\" %(self.name, self.age))\n",
    "        \n",
    "class Teacher(SchoolMember):\n",
    "    def __init__(self, name, age, salary):\n",
    "        SchoolMember.__init__(self, name, age)\n",
    "        self.salary = salary\n",
    "        print(\"Teacher %s is initialised\" %(self.name))   \n",
    "    \n",
    "    def introduce(self):\n",
    "        print(\"\\nINTRO\")\n",
    "        SchoolMember.introduce(self)\n",
    "        print(\"Salary: %d\" %(self.salary))\n",
    "        \n",
    "class Student(SchoolMember):\n",
    "    def __init__(self, name, age, marks):\n",
    "        SchoolMember.__init__(self, name, age)\n",
    "        self.marks = marks\n",
    "        print(\"Student %s is initialised\" %(self.name))   \n",
    "    \n",
    "    def introduce(self):\n",
    "        print(\"\\nINTRO\")\n",
    "        SchoolMember.introduce(self)\n",
    "        print(\"Marks: %d\" %(self.marks))"
   ]
  },
  {
   "cell_type": "code",
   "execution_count": 55,
   "metadata": {},
   "outputs": [
    {
     "name": "stdout",
     "output_type": "stream",
     "text": [
      "School member Mr Gupta is initialised\n",
      "Teacher Mr Gupta is initialised\n",
      "\n",
      "INTRO\n",
      "Info is Name: Mr Gupta, Age: 45\n",
      "Salary: 10000\n"
     ]
    }
   ],
   "source": [
    "t = Teacher(\"Mr Gupta\", 45, 10000)\n",
    "t.introduce()"
   ]
  },
  {
   "cell_type": "code",
   "execution_count": 56,
   "metadata": {},
   "outputs": [
    {
     "name": "stdout",
     "output_type": "stream",
     "text": [
      "School member Ria is initialised\n",
      "Student Ria is initialised\n",
      "\n",
      "INTRO\n",
      "Info is Name: Ria, Age: 21\n",
      "Marks: 98\n"
     ]
    }
   ],
   "source": [
    "s = Student(\"Ria\", 21, 98)\n",
    "s.introduce()"
   ]
  },
  {
   "cell_type": "code",
   "execution_count": null,
   "metadata": {},
   "outputs": [],
   "source": []
  }
 ],
 "metadata": {
  "kernelspec": {
   "display_name": "Python 3",
   "language": "python",
   "name": "python3"
  },
  "language_info": {
   "codemirror_mode": {
    "name": "ipython",
    "version": 3
   },
   "file_extension": ".py",
   "mimetype": "text/x-python",
   "name": "python",
   "nbconvert_exporter": "python",
   "pygments_lexer": "ipython3",
   "version": "3.7.0"
  }
 },
 "nbformat": 4,
 "nbformat_minor": 2
}
