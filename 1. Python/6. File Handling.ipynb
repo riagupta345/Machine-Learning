{
 "cells": [
  {
   "cell_type": "markdown",
   "metadata": {},
   "source": [
    "# File Handling"
   ]
  },
  {
   "cell_type": "code",
   "execution_count": 1,
   "metadata": {},
   "outputs": [
    {
     "data": {
      "text/plain": [
       "'Hi!\\nMy name is Ria\\nHow are you?Hello WorldHello WorldHello World'"
      ]
     },
     "execution_count": 1,
     "metadata": {},
     "output_type": "execute_result"
    }
   ],
   "source": [
    "f = open('sample.txt', 'r')\n",
    "f.read()"
   ]
  },
  {
   "cell_type": "code",
   "execution_count": 42,
   "metadata": {},
   "outputs": [
    {
     "name": "stdout",
     "output_type": "stream",
     "text": [
      "Hi!\n",
      "My name is Ria\n",
      "How are you?\n",
      "Hi!\n",
      "My name is Ria\n",
      "How are you?Hello WorldHello WorldHello World\n"
     ]
    }
   ],
   "source": [
    "f = open('sample.txt', 'r+')\n",
    "\n",
    "print(f.read())\n",
    "\n",
    "content = \"Hello World\"\n",
    "l = [content]*3\n",
    "f.writelines(l)         # To write a list of multiple strings\n",
    "# f.write(content)     # To write a single string\n",
    "f.close()\n",
    "\n",
    "f = open('sample.txt', 'r')\n",
    "print(f.read())\n",
    "f.close()\n",
    "# Have to close and reopen file to read latest written contents"
   ]
  },
  {
   "cell_type": "markdown",
   "metadata": {},
   "source": [
    "### Reading from a file\n",
    "- read() => Whole file\n",
    "- readline() => Current line only\n",
    "- readlines() => All lines of whole file returned as a list"
   ]
  },
  {
   "cell_type": "code",
   "execution_count": 49,
   "metadata": {},
   "outputs": [
    {
     "name": "stdout",
     "output_type": "stream",
     "text": [
      "['Hi!\\n', 'My name is Ria\\n', 'How are you?Hello WorldHello WorldHello World']\n",
      "<class 'list'>\n"
     ]
    }
   ],
   "source": [
    "f = open('sample.txt', 'r')\n",
    "# print(f.read())\n",
    "# print(f.readline())\n",
    "print(f.readlines())\n",
    "print(type(f.readlines()))"
   ]
  },
  {
   "cell_type": "markdown",
   "metadata": {},
   "source": [
    "#### Reading using 'with open'"
   ]
  },
  {
   "cell_type": "code",
   "execution_count": 50,
   "metadata": {},
   "outputs": [
    {
     "name": "stdout",
     "output_type": "stream",
     "text": [
      "False\n",
      "Hi!\n",
      "My name is Ria\n",
      "How are you?Hello WorldHello WorldHello World\n"
     ]
    }
   ],
   "source": [
    "with open('sample.txt', 'r') as f:\n",
    "    print(f.closed)  # Attribute to check if this file is currently closed or not\n",
    "    print(f.read())\n",
    "    # Automatically closes the file, so file is open only inside this block, and closed for all other blocks"
   ]
  },
  {
   "cell_type": "code",
   "execution_count": 51,
   "metadata": {},
   "outputs": [
    {
     "data": {
      "text/plain": [
       "True"
      ]
     },
     "execution_count": 51,
     "metadata": {},
     "output_type": "execute_result"
    }
   ],
   "source": [
    "f.closed"
   ]
  },
  {
   "cell_type": "markdown",
   "metadata": {},
   "source": [
    "#### Moving the file handler to another index (Seeking)"
   ]
  },
  {
   "cell_type": "code",
   "execution_count": 54,
   "metadata": {},
   "outputs": [
    {
     "name": "stdout",
     "output_type": "stream",
     "text": [
      "Hi!\n",
      "My name is Ria\n",
      "How are you?Hello WorldHello WorldHello World\n",
      "\n",
      "ame is Ria\n",
      "How are you?Hello WorldHello WorldHello World\n"
     ]
    }
   ],
   "source": [
    "with open('sample.txt', 'r') as f:\n",
    "    print(f.read())\n",
    "    print()\n",
    "    \n",
    "    f.seek(8) # Goes to 8th index in file (here '\\n' is also a character stored at one index <Index 3>)\n",
    "    print(f.read())"
   ]
  },
  {
   "cell_type": "markdown",
   "metadata": {},
   "source": [
    "## JSON Files\n",
    "- JavaScript Object Notation\n",
    "- Lightweight file format for data interchange\n",
    "- Used in web (client-server architecture => server can return JSON file to client)\n",
    "\n",
    "### Methods\n",
    "###### Serialization => Store data (Python object) from RAM into file in secondary storage\n",
    "- json.dumps(obj) ==> Dump data as a string\n",
    "- json.dump(obj, file) ==> Two parameters: what object to dump and to which file to dump\n",
    "\n",
    "###### Deserialization\n",
    "- json.loads(jsonfile) ==> To read data from a json file as a string\n",
    "- json.load(jsonfile)"
   ]
  },
  {
   "cell_type": "code",
   "execution_count": 60,
   "metadata": {},
   "outputs": [
    {
     "name": "stdout",
     "output_type": "stream",
     "text": [
      "<class 'dict'>\n",
      "{'name': 'Learning Python', 'page': 320, 'authors': [{'name': 'A1', 'age': 32}, {'name': 'A2', 'age': 40}]}\n",
      "{'name': 'A1', 'age': 32}\n"
     ]
    }
   ],
   "source": [
    "import json # JSON Module\n",
    "\n",
    "# Python object\n",
    "book = {\n",
    "    \"name\" : \"Learning Python\",\n",
    "    \"page\" : 320,\n",
    "    \"authors\" : [\n",
    "        {\n",
    "            \"name\" : \"A1\",\n",
    "            \"age\" : 32\n",
    "        },\n",
    "        {\n",
    "            \"name\" : \"A2\",\n",
    "            \"age\" : 40\n",
    "        }\n",
    "    ]\n",
    "}\n",
    "print(type(book))\n",
    "print(book)\n",
    "print(book['authors'][0])"
   ]
  },
  {
   "cell_type": "code",
   "execution_count": 63,
   "metadata": {},
   "outputs": [],
   "source": [
    "with open('myJSONfile.json', 'w') as f:\n",
    "    json.dump(book, f)"
   ]
  },
  {
   "cell_type": "code",
   "execution_count": 66,
   "metadata": {},
   "outputs": [
    {
     "name": "stdout",
     "output_type": "stream",
     "text": [
      "{\"name\": \"Learning Python\", \"page\": 320, \"authors\": [{\"name\": \"A1\", \"age\": 32}, {\"name\": \"A2\", \"age\": 40}]}\n",
      "<class 'str'>\n"
     ]
    }
   ],
   "source": [
    "s = json.dumps(book)\n",
    "print(s)\n",
    "print(type(s))\n",
    "\n",
    "# Returns a string\n",
    "# This json object is serialized in the form of a string, which can be used for printing or deserialization  "
   ]
  },
  {
   "cell_type": "code",
   "execution_count": 68,
   "metadata": {},
   "outputs": [
    {
     "name": "stdout",
     "output_type": "stream",
     "text": [
      "<class 'dict'>\n",
      "{'name': 'Learning Python', 'page': 320, 'authors': [{'name': 'A1', 'age': 32}, {'name': 'A2', 'age': 40}]}\n"
     ]
    }
   ],
   "source": [
    "obj = json.loads(s)\n",
    "print(type(obj))\n",
    "print(obj)\n",
    "\n",
    "# Deserialized a string to an object (dictionary)"
   ]
  },
  {
   "cell_type": "code",
   "execution_count": 69,
   "metadata": {},
   "outputs": [
    {
     "name": "stdout",
     "output_type": "stream",
     "text": [
      "{'name': 'Learning Python', 'page': 320, 'authors': [{'name': 'A1', 'age': 32}, {'name': 'A2', 'age': 40}]}\n"
     ]
    }
   ],
   "source": [
    "with open('myJSONfile.json', 'r') as f:\n",
    "    data = json.load(f)\n",
    "    print(data)"
   ]
  },
  {
   "cell_type": "code",
   "execution_count": 75,
   "metadata": {},
   "outputs": [
    {
     "name": "stdout",
     "output_type": "stream",
     "text": [
      "{'authors': [{'age': 32, 'name': 'A1'}, {'age': 40, 'name': 'A2'}],\n",
      " 'name': 'Learning Python',\n",
      " 'page': 320}\n"
     ]
    }
   ],
   "source": [
    "# Use pretty print (pprint)\n",
    "\n",
    "import pprint\n",
    "with open('myJSONfile.json', 'r') as f:\n",
    "    data = json.load(f)\n",
    "    pprint.pprint(data)\n",
    "    \n",
    "# Prints in a more legible format (pretty printing), but not sorted or in original order"
   ]
  },
  {
   "cell_type": "markdown",
   "metadata": {},
   "source": [
    "## Exception Handling\n",
    "\n",
    "- __try__: normal execution\n",
    "- __except__: encounters some error, lands here from try block\n",
    "- __else__: if no error occurs and doesnt enter any except block, comes to else block\n",
    "- __finally__: always executed, whether it comes from try or except or else block"
   ]
  },
  {
   "cell_type": "code",
   "execution_count": 95,
   "metadata": {},
   "outputs": [
    {
     "name": "stdout",
     "output_type": "stream",
     "text": [
      "Enter your name: Ria\n",
      "Else - Try block executed without any error\n",
      "Finally - I am always executed\n"
     ]
    }
   ],
   "source": [
    "try:\n",
    "    # a = b\n",
    "    # a = 10/0\n",
    "    # f = open(\"someMissingFile.txt\", 'r')\n",
    "    n = input(\"Enter your name: \")\n",
    "    if (len(n) < 3):\n",
    "        raise Exception\n",
    "\n",
    "except FileNotFoundError:                              # Specific exceptions\n",
    "    print(\"File does not exist. Please reupload\")\n",
    "\n",
    "except ZeroDivisionError:\n",
    "    print(\"Attempt to divide by zero\")\n",
    "    \n",
    "except NameError:\n",
    "    print(\"Variable not defined\")\n",
    "\n",
    "except Exception:                                     # General exceptions\n",
    "    print(\"Something else went wrong\")\n",
    "    print(Exception)\n",
    "    \n",
    "else:\n",
    "    print(\"Else - Try block executed without any error\")\n",
    "    \n",
    "finally:\n",
    "    print(\"Finally - I am always executed\")"
   ]
  },
  {
   "cell_type": "code",
   "execution_count": 96,
   "metadata": {},
   "outputs": [
    {
     "name": "stdout",
     "output_type": "stream",
     "text": [
      "o\n",
      "l\n",
      "l\n",
      "e\n",
      "H\n"
     ]
    }
   ],
   "source": [
    "s = \"Hello\"\n",
    "for i in range(len(s)-1, -1, -1):\n",
    "    print(s[i])"
   ]
  },
  {
   "cell_type": "code",
   "execution_count": 101,
   "metadata": {},
   "outputs": [
    {
     "name": "stdout",
     "output_type": "stream",
     "text": [
      "101010\n",
      "1\n",
      "2\n",
      "5\n",
      "10\n",
      "21\n",
      "42\n",
      "42\n"
     ]
    }
   ],
   "source": [
    "# Binary to Decimal\n",
    "n = input()\n",
    "val = 0\n",
    "for i in range(len(n)):\n",
    "    val = 2*val + int(n[i])\n",
    "    print(val)\n",
    "\n",
    "print(val)"
   ]
  },
  {
   "cell_type": "code",
   "execution_count": 109,
   "metadata": {},
   "outputs": [
    {
     "name": "stdout",
     "output_type": "stream",
     "text": [
      "27\n",
      "2\n",
      "5.19\n"
     ]
    }
   ],
   "source": [
    "# Square root upto a precision\n",
    "\n",
    "import math\n",
    "\n",
    "n = int(input())\n",
    "p = int(input())\n",
    "\n",
    "mult = 1\n",
    "for i in range(1, p+1):\n",
    "    mult *= 10\n",
    "\n",
    "sq = math.sqrt(n)\n",
    "sq *= mult\n",
    "sq = (int)(sq)\n",
    "sq /= mult\n",
    "print(sq)"
   ]
  },
  {
   "cell_type": "code",
   "execution_count": 114,
   "metadata": {},
   "outputs": [
    {
     "name": "stdout",
     "output_type": "stream",
     "text": [
      "3\n",
      "0\n",
      "1\n",
      "1\n",
      "2\n"
     ]
    }
   ],
   "source": [
    "# Fibonacci\n",
    "\n",
    "first = 0\n",
    "second = 1\n",
    "\n",
    "n = int(input())\n",
    "print(first)\n",
    "while second < n:\n",
    "    print(second)\n",
    "    next = first+second\n",
    "    first = second\n",
    "    second = next\n",
    "    \n",
    "    "
   ]
  },
  {
   "cell_type": "code",
   "execution_count": 131,
   "metadata": {},
   "outputs": [
    {
     "name": "stdout",
     "output_type": "stream",
     "text": [
      "aaabcd\n",
      "dict_values([3, 1, 1, 1])\n",
      "a\n"
     ]
    }
   ],
   "source": [
    "# Max frequency character\n",
    "\n",
    "s = input()\n",
    "dic = {}\n",
    "for i in range(len(s)):\n",
    "    if s[i] in dic:\n",
    "        ov = dic[s[i]]\n",
    "        dic[s[i]] = ov+1\n",
    "    else:\n",
    "        dic[s[i]] = 1\n",
    "\n",
    "maxval = -1\n",
    "char = ''\n",
    "print(dic.values())\n",
    "for ch, freq in dic.items():\n",
    "    if maxval < freq:\n",
    "        maxval = freq\n",
    "        char = ch\n",
    "        \n",
    "print(char)"
   ]
  },
  {
   "cell_type": "code",
   "execution_count": 149,
   "metadata": {},
   "outputs": [
    {
     "name": "stdout",
     "output_type": "stream",
     "text": [
      "2\n"
     ]
    }
   ],
   "source": [
    "for i in range(2,3):\n",
    "    print(i)"
   ]
  },
  {
   "cell_type": "code",
   "execution_count": 153,
   "metadata": {},
   "outputs": [
    {
     "name": "stdout",
     "output_type": "stream",
     "text": [
      "1\n",
      "3\n",
      "5\n",
      "3\n",
      "5\n"
     ]
    }
   ],
   "source": [
    "# Prime numbers in a range\n",
    "\n",
    "t = int(input())\n",
    "for l in range(t):\n",
    "    p = int(input())\n",
    "    q = int(input())\n",
    "    fl= False\n",
    "    for n in range (p, q+1):\n",
    "        fl = False\n",
    "        for i in range(2, n//2+1):\n",
    "            if n%i == 0:\n",
    "                fl = True\n",
    "                continue\n",
    "        \n",
    "        if fl == False:\n",
    "            print(n)\n",
    "         "
   ]
  },
  {
   "cell_type": "code",
   "execution_count": 150,
   "metadata": {},
   "outputs": [
    {
     "name": "stdout",
     "output_type": "stream",
     "text": [
      "4\n",
      "Prime\n"
     ]
    }
   ],
   "source": [
    "# Prime number\n",
    "\n",
    "n = int(input())\n",
    "flag = False\n",
    "for i in range(2, n//2):\n",
    "    if n%i == 0:\n",
    "        print(\"Not Prime\")\n",
    "        flag = True\n",
    "        break\n",
    "    else:\n",
    "        continue\n",
    "\n",
    "if flag == False:\n",
    "    print(\"Prime\")"
   ]
  },
  {
   "cell_type": "code",
   "execution_count": null,
   "metadata": {},
   "outputs": [],
   "source": []
  }
 ],
 "metadata": {
  "kernelspec": {
   "display_name": "Python 3",
   "language": "python",
   "name": "python3"
  },
  "language_info": {
   "codemirror_mode": {
    "name": "ipython",
    "version": 3
   },
   "file_extension": ".py",
   "mimetype": "text/x-python",
   "name": "python",
   "nbconvert_exporter": "python",
   "pygments_lexer": "ipython3",
   "version": "3.7.0"
  }
 },
 "nbformat": 4,
 "nbformat_minor": 2
}
