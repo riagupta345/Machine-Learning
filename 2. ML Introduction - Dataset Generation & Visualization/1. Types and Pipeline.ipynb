{
 "cells": [
  {
   "cell_type": "markdown",
   "metadata": {},
   "source": [
    "# Machine Learning\n",
    "It is of the following types:\n",
    "1. Supervised Learning\n",
    "2. Unsupervised Learning\n",
    "3. Semisupervised Learning\n",
    "4. Reinforcement Learning"
   ]
  },
  {
   "cell_type": "markdown",
   "metadata": {},
   "source": [
    "### 1. Supervised Learning:\n",
    "- Learn from past/existing labelled data, to generalise predictions for future data\n",
    "- Avoid overfitting\n",
    "- Labels may be discrete or continuous\n",
    "- Both X (input features) and Y (labels) given during training\n",
    "\n",
    "\n",
    "- __Data Representation__: \n",
    "    - X<sup>(i)</sup><sub>j</sub> => i<sup>th</sup> training example ka j<sup>th</sup> feature\n",
    "    - X is m x n matrix: m training examples, n features\n",
    "    - Y is m x 1 matrix\n",
    "- How algorithm works:\n",
    "    - From the training data, it learns the hypothesis (h)\n",
    "    - This hypothesis accepts the unseen testing data and gives output prediction\n",
    "    - Hypothesis is a function having some parameters, which will map the given input to a desired output\n",
    "- Based on output, supervised learning is of two types:\n",
    "    1. _Regression_: Output/label is a continuous value (eg. Housing price prediction, stock price prediction, CGPA prediction, etc.)\n",
    "        - f(x) $\\rightarrow$ y\n",
    "            - x $\\in$ R<sup>n</sup> (as X<sup>(i)</sup> has n features)\n",
    "            - y $\\in$ R\n",
    "        - Goal is to minimise the loss (error)\n",
    "    2. _Classification_: Output belongs to one of the given classes, ie, output has a discrete label (eg. Disease or not?, Fruit is apple/mango/guava?, Object classification, etc.)\n",
    "        - f(x) $\\rightarrow$ y\n",
    "            - x $\\in$ R<sup>n</sup> (as X<sup>(i)</sup> has n features)\n",
    "            - y $\\in$ {1, 2, ..., k} (as we have k output classes)\n",
    "        - Goal is to minimise the number of misclassifications\n",
    "        - Algorithm tries to learn a separating hyperplane => to separate various classes of data, thus, the function we have to learn is a hyperplane\n",
    "        \n",
    "        \n",
    "        \n",
    "- __Applications__:\n",
    "     1. Spam Detection\n",
    "     2. Document Classification (data may be multilabelled, where each input can belong to multiple classes => complex)\n",
    "     3. Natural Language Processing\n",
    "     4. Image Classification\n",
    "     5. Sequences (music, text, speech)\n",
    "     6. Predictions (housing price, etc)"
   ]
  },
  {
   "cell_type": "markdown",
   "metadata": {},
   "source": [
    "### 2. Unsupervised Learning:\n",
    "- No supervision, ie, no labelled data\n",
    "- Algorithm has to find patterns on its own, grouping similar data points together (clustering)\n",
    "- Only X (input) array given, no Y (output)\n",
    "- Examples: \n",
    "    - Twitter Analysis about favour of the govt => positive and negative tweets can be analysed from text quality\n",
    "    - Amazon recommendations to certain groups of people with similar likes and dislikes\n",
    "    - Products also bought when you buy something (keyboard => mouse & mousepad)\n",
    "    \n",
    "    \n",
    "- __Applications__:\n",
    "    1. Object Segmentation (identity different components of an image)\n",
    "    2. Similarity Detection (similar objects are grouped together)\n",
    "    3. Automatic Labelling (label clusters of tweets as positive or negative)\n",
    "        "
   ]
  },
  {
   "cell_type": "markdown",
   "metadata": {},
   "source": [
    "### 3. Semi-supervised Learning:\n",
    "- We dont have labelled data, but we manually label some of the data points\n",
    "- Labelling some points (as positive/negative) can give idea about the overall cluster, thus improves quality\n",
    "- To label some data points, we can analyse text, like emojis => :), :D for positive ones, :(, >:o for negative ones\n",
    "- Use rule-based labelling to create semi-supervised learning dataset\n"
   ]
  },
  {
   "cell_type": "markdown",
   "metadata": {},
   "source": [
    "# Machine Learning Pipeline (Steps)\n",
    "\n",
    "\n",
    "\n",
    "### 1. Data Generation or Data Collection\n",
    "Data can be obtained in two ways:\n",
    "- _Generate our own data_\n",
    "    - Using sklearn\n",
    "    - Use some mathematical function to generate some data\n",
    "    \n",
    "    \n",
    "- _Collect data from data sources_\n",
    "    - If already available: already available datasets from internet or from libraries like sklearn\n",
    "    - If not available: use web scraping to scrape data from some website like Amazon or Twitter etc\n",
    "\n",
    "\n",
    "\n",
    "### 2. Data Cleaning or Feature Engineering\n",
    "- Data collected has many features which may be unnecessary or not useful\n",
    "- Feature Engineering: Choose relevant features only to build algorithm\n",
    "- This feature engineering depends on type of data: numerical, image, text, speech, tabular, dictionary (K-V pairs) etc.\n",
    "\n",
    "\n",
    "\n",
    "### 3. Algorithms to find interesting patterns\n",
    "- Takes up max effort to build a model or algorithm which learns patterns\n",
    "- Max focus on this phase\n",
    "\n",
    "\n",
    "\n",
    "### 4. Deployment\n",
    "- After testing and validation, we deploy our system/model on web where it can do its work\n",
    "- Least amount of effort"
   ]
  },
  {
   "cell_type": "code",
   "execution_count": null,
   "metadata": {},
   "outputs": [],
   "source": []
  }
 ],
 "metadata": {
  "kernelspec": {
   "display_name": "Python 3",
   "language": "python",
   "name": "python3"
  },
  "language_info": {
   "codemirror_mode": {
    "name": "ipython",
    "version": 3
   },
   "file_extension": ".py",
   "mimetype": "text/x-python",
   "name": "python",
   "nbconvert_exporter": "python",
   "pygments_lexer": "ipython3",
   "version": "3.7.0"
  }
 },
 "nbformat": 4,
 "nbformat_minor": 2
}
