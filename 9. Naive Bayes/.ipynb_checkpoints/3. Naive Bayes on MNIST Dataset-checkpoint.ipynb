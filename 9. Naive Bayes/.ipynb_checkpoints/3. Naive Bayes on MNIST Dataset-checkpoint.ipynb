{
 "cells": [
  {
   "cell_type": "code",
   "execution_count": 1,
   "metadata": {},
   "outputs": [],
   "source": [
    "from sklearn.datasets import load_digits\n",
    "from sklearn.model_selection import cross_val_score\n",
    "import numpy as np\n",
    "import matplotlib.pyplot as plt"
   ]
  },
  {
   "cell_type": "markdown",
   "metadata": {},
   "source": [
    "### 1. Data Preparation"
   ]
  },
  {
   "cell_type": "code",
   "execution_count": 2,
   "metadata": {},
   "outputs": [],
   "source": [
    "# Load SKLearn's MNIST dataset\n",
    "\n",
    "digits = load_digits()\n",
    "X = digits.data\n",
    "Y = digits.target"
   ]
  },
  {
   "cell_type": "code",
   "execution_count": 3,
   "metadata": {},
   "outputs": [
    {
     "name": "stdout",
     "output_type": "stream",
     "text": [
      "(1797, 64) (1797,)\n"
     ]
    }
   ],
   "source": [
    "print(X.shape, Y.shape)"
   ]
  },
  {
   "cell_type": "code",
   "execution_count": 4,
   "metadata": {},
   "outputs": [],
   "source": [
    "# print(digits.DESCR)"
   ]
  },
  {
   "cell_type": "code",
   "execution_count": 5,
   "metadata": {},
   "outputs": [
    {
     "data": {
      "text/plain": [
       "5"
      ]
     },
     "execution_count": 5,
     "metadata": {},
     "output_type": "execute_result"
    },
    {
     "data": {
      "image/png": "[encoded data removed]",
      "text/plain": [
       "<Figure size 144x144 with 1 Axes>"
      ]
     },
     "metadata": {
      "needs_background": "light"
     },
     "output_type": "display_data"
    }
   ],
   "source": [
    "plt.figure(figsize=(2,2))\n",
    "plt.imshow(X[5].reshape((8,8)), cmap='gray')\n",
    "Y[5]"
   ]
  },
  {
   "cell_type": "code",
   "execution_count": 6,
   "metadata": {},
   "outputs": [
    {
     "name": "stdout",
     "output_type": "stream",
     "text": [
      "[ 0.  0. 12. 10.  0.  0.  0.  0.  0.  0. 14. 16. 16. 14.  0.  0.  0.  0.\n",
      " 13. 16. 15. 10.  1.  0.  0.  0. 11. 16. 16.  7.  0.  0.  0.  0.  0.  4.\n",
      "  7. 16.  7.  0.  0.  0.  0.  0.  4. 16.  9.  0.  0.  0.  5.  4. 12. 16.\n",
      "  4.  0.  0.  0.  9. 16. 16. 10.  0.  0.]\n"
     ]
    }
   ],
   "source": [
    "print(X[5])\n",
    "# 16 levels (shades) of gray, where 0 = black, 16 = white"
   ]
  },
  {
   "cell_type": "markdown",
   "metadata": {},
   "source": [
    "### 2. Train Models"
   ]
  },
  {
   "cell_type": "code",
   "execution_count": 7,
   "metadata": {},
   "outputs": [],
   "source": [
    "from sklearn.naive_bayes import GaussianNB, MultinomialNB"
   ]
  },
  {
   "cell_type": "code",
   "execution_count": 8,
   "metadata": {},
   "outputs": [],
   "source": [
    "gnb = GaussianNB()\n",
    "mnb = MultinomialNB()"
   ]
  },
  {
   "cell_type": "code",
   "execution_count": 9,
   "metadata": {},
   "outputs": [
    {
     "data": {
      "text/plain": [
       "MultinomialNB(alpha=1.0, class_prior=None, fit_prior=True)"
      ]
     },
     "execution_count": 9,
     "metadata": {},
     "output_type": "execute_result"
    }
   ],
   "source": [
    "# Train\n",
    "gnb.fit(X, Y)\n",
    "mnb.fit(X, Y)"
   ]
  },
  {
   "cell_type": "code",
   "execution_count": 10,
   "metadata": {},
   "outputs": [
    {
     "name": "stdout",
     "output_type": "stream",
     "text": [
      "0.8580968280467446\n",
      "0.9053978853644964\n"
     ]
    }
   ],
   "source": [
    "# Score => Returns the mean accuracy on the given test data and labels\n",
    "print(gnb.score(X, Y))\n",
    "print(mnb.score(X, Y))"
   ]
  },
  {
   "cell_type": "code",
   "execution_count": 11,
   "metadata": {},
   "outputs": [
    {
     "name": "stdout",
     "output_type": "stream",
     "text": [
      "[0.76756757 0.81967213 0.89502762 0.71111111 0.72625698 0.84357542\n",
      " 0.8547486  0.86516854 0.8079096  0.8125    ]\n"
     ]
    },
    {
     "data": {
      "text/plain": [
       "0.8103537583567821"
      ]
     },
     "execution_count": 11,
     "metadata": {},
     "output_type": "execute_result"
    }
   ],
   "source": [
    "print(cross_val_score(gnb, X, Y, scoring=\"accuracy\", cv=10))      # 10 fold cross validation => 10 diff accuracies\n",
    "cross_val_score(gnb, X, Y, scoring=\"accuracy\", cv=10).mean()"
   ]
  },
  {
   "cell_type": "code",
   "execution_count": 12,
   "metadata": {},
   "outputs": [
    {
     "name": "stdout",
     "output_type": "stream",
     "text": [
      "[0.85405405 0.94535519 0.88950276 0.81666667 0.86592179 0.8547486\n",
      " 0.97206704 0.94382022 0.80225989 0.875     ]\n"
     ]
    },
    {
     "data": {
      "text/plain": [
       "0.8819396216300838"
      ]
     },
     "execution_count": 12,
     "metadata": {},
     "output_type": "execute_result"
    }
   ],
   "source": [
    "print(cross_val_score(mnb, X, Y, scoring=\"accuracy\", cv=10))\n",
    "cross_val_score(mnb, X, Y, scoring=\"accuracy\", cv=10).mean()"
   ]
  },
  {
   "cell_type": "code",
   "execution_count": 13,
   "metadata": {},
   "outputs": [],
   "source": [
    "# This is because each feature is discrete valued, not continuous. That is why Multinomial NB performs better than\n",
    "# Gaussian NB"
   ]
  },
  {
   "cell_type": "code",
   "execution_count": 14,
   "metadata": {},
   "outputs": [],
   "source": [
    "#   This function prints and plots the confusion matrix.\n",
    "#   Normalization can be applied by setting `normalize=True`.\n",
    "\n",
    "import itertools\n",
    "\n",
    "def plot_confusion_matrix(cm, classes,\n",
    "                          normalize=False,\n",
    "                          title='Confusion matrix',\n",
    "                          cmap=plt.cm.Blues):\n",
    "    \n",
    "    if normalize:\n",
    "        cm = cm.astype('float') / cm.sum(axis=1)[:, np.newaxis]\n",
    "        print(\"Normalized confusion matrix\")\n",
    "    else:\n",
    "        print('Confusion matrix, without normalization')\n",
    "\n",
    "    print(cm)\n",
    "\n",
    "    plt.imshow(cm, interpolation='nearest', cmap=cmap)\n",
    "    plt.title(title)\n",
    "    plt.colorbar()\n",
    "    tick_marks = np.arange(len(classes))\n",
    "    plt.xticks(tick_marks, classes, rotation=45)\n",
    "    plt.yticks(tick_marks, classes)\n",
    "\n",
    "    fmt = '.2f' if normalize else 'd'\n",
    "    thresh = cm.max() / 2.\n",
    "    for i, j in itertools.product(range(cm.shape[0]), range(cm.shape[1])):\n",
    "        plt.text(j, i, format(cm[i, j], fmt),\n",
    "                 horizontalalignment=\"center\",\n",
    "                 color=\"white\" if cm[i, j] > thresh else \"black\")\n",
    "\n",
    "    plt.ylabel('True label')\n",
    "    plt.xlabel('Predicted label')\n",
    "    plt.tight_layout() "
   ]
  },
  {
   "cell_type": "code",
   "execution_count": 15,
   "metadata": {},
   "outputs": [
    {
     "name": "stdout",
     "output_type": "stream",
     "text": [
      "[0 1 2 3 4 5 6 7 8 9]\n"
     ]
    }
   ],
   "source": [
    "class_list = np.arange(10)\n",
    "print(class_list)"
   ]
  },
  {
   "cell_type": "code",
   "execution_count": 16,
   "metadata": {},
   "outputs": [],
   "source": [
    "from sklearn.metrics import confusion_matrix"
   ]
  },
  {
   "cell_type": "code",
   "execution_count": 19,
   "metadata": {},
   "outputs": [
    {
     "name": "stdout",
     "output_type": "stream",
     "text": [
      "[[175   0   0   0   3   0   0   0   0   0]\n",
      " [  0 137  14   0   0   1   2   0  13  15]\n",
      " [  0   7 160   0   0   0   0   0   8   2]\n",
      " [  0   0   2 159   0   2   0   5   8   7]\n",
      " [  1   0   0   0 173   0   0   4   3   0]\n",
      " [  0   0   0   0   1 157   1   1   2  20]\n",
      " [  0   2   0   0   1   1 176   0   1   0]\n",
      " [  0   0   0   0   0   0   0 178   1   0]\n",
      " [  0  11   1   0   1   0   1   1 154   5]\n",
      " [  0   1   0   1   1   1   0  11   7 158]]\n"
     ]
    }
   ],
   "source": [
    "Y_mnb = mnb.predict(X)\n",
    "cnf = confusion_matrix(Y, Y_mnb)\n",
    "print(cnf)"
   ]
  },
  {
   "cell_type": "code",
   "execution_count": 20,
   "metadata": {},
   "outputs": [
    {
     "name": "stdout",
     "output_type": "stream",
     "text": [
      "Confusion matrix, without normalization\n",
      "[[175   0   0   0   3   0   0   0   0   0]\n",
      " [  0 137  14   0   0   1   2   0  13  15]\n",
      " [  0   7 160   0   0   0   0   0   8   2]\n",
      " [  0   0   2 159   0   2   0   5   8   7]\n",
      " [  1   0   0   0 173   0   0   4   3   0]\n",
      " [  0   0   0   0   1 157   1   1   2  20]\n",
      " [  0   2   0   0   1   1 176   0   1   0]\n",
      " [  0   0   0   0   0   0   0 178   1   0]\n",
      " [  0  11   1   0   1   0   1   1 154   5]\n",
      " [  0   1   0   1   1   1   0  11   7 158]]\n"
     ]
    },
    {
     "data": {
      "image/png": "[encoded data removed]",
      "text/plain": [
       "<Figure size 432x288 with 2 Axes>"
      ]
     },
     "metadata": {
      "needs_background": "light"
     },
     "output_type": "display_data"
    }
   ],
   "source": [
    "plot_confusion_matrix(cnf, class_list)"
   ]
  },
  {
   "cell_type": "code",
   "execution_count": 21,
   "metadata": {},
   "outputs": [
    {
     "name": "stdout",
     "output_type": "stream",
     "text": [
      "[[176   0   0   0   1   0   0   1   0   0]\n",
      " [  0 154   0   0   0   0   3   5  14   6]\n",
      " [  0  13 113   0   0   1   1   0  49   0]\n",
      " [  0   2   2 145   0   6   0   7  20   1]\n",
      " [  1   1   0   0 152   1   2  21   3   0]\n",
      " [  0   0   0   3   0 169   1   6   2   1]\n",
      " [  0   1   0   0   0   1 179   0   0   0]\n",
      " [  0   0   0   0   1   1   0 177   0   0]\n",
      " [  0   8   0   1   0   3   0  12 150   0]\n",
      " [  1   6   0   5   1   3   0  17  20 127]]\n"
     ]
    }
   ],
   "source": [
    "Y_gnb = gnb.predict(X)\n",
    "cnf2 = confusion_matrix(Y, Y_gnb)\n",
    "print(cnf2)"
   ]
  },
  {
   "cell_type": "code",
   "execution_count": 22,
   "metadata": {},
   "outputs": [
    {
     "name": "stdout",
     "output_type": "stream",
     "text": [
      "Confusion matrix, without normalization\n",
      "[[176   0   0   0   1   0   0   1   0   0]\n",
      " [  0 154   0   0   0   0   3   5  14   6]\n",
      " [  0  13 113   0   0   1   1   0  49   0]\n",
      " [  0   2   2 145   0   6   0   7  20   1]\n",
      " [  1   1   0   0 152   1   2  21   3   0]\n",
      " [  0   0   0   3   0 169   1   6   2   1]\n",
      " [  0   1   0   0   0   1 179   0   0   0]\n",
      " [  0   0   0   0   1   1   0 177   0   0]\n",
      " [  0   8   0   1   0   3   0  12 150   0]\n",
      " [  1   6   0   5   1   3   0  17  20 127]]\n"
     ]
    },
    {
     "data": {
      "image/png": "[encoded data removed]",
      "text/plain": [
       "<Figure size 432x288 with 2 Axes>"
      ]
     },
     "metadata": {
      "needs_background": "light"
     },
     "output_type": "display_data"
    }
   ],
   "source": [
    "plot_confusion_matrix(cnf2, class_list)"
   ]
  },
  {
   "cell_type": "code",
   "execution_count": null,
   "metadata": {},
   "outputs": [],
   "source": [
    "# Calculate precision and recall"
   ]
  }
 ],
 "metadata": {
  "kernelspec": {
   "display_name": "Python 3",
   "language": "python",
   "name": "python3"
  },
  "language_info": {
   "codemirror_mode": {
    "name": "ipython",
    "version": 3
   },
   "file_extension": ".py",
   "mimetype": "text/x-python",
   "name": "python",
   "nbconvert_exporter": "python",
   "pygments_lexer": "ipython3",
   "version": "3.7.0"
  }
 },
 "nbformat": 4,
 "nbformat_minor": 2
}
